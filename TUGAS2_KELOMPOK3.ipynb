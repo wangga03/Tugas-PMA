{
 "cells": [
  {
   "cell_type": "markdown",
   "metadata": {},
   "source": [
    "# TUGAS2_KELOMPOK3 — Optimized Logistic (Binary) & Softmax (Multiclass)\n",
    "\n",
    "Notebook ini merapikan pipeline agar **anti-leakage, reproducible, dan evaluasi lebih kuat**.\n",
    "\n",
    "## Apa yang berubah\n",
    "- Gunakan **Pipeline + ColumnTransformer** (imputasi + scaling + encoding) → mencegah data leakage.\n",
    "- **Stratified split + Stratified K-Fold CV** untuk metrik yang stabil.\n",
    "- **class_weight=\\\"balanced\\\"** pada logistic biner (atasi imbalance).\n",
    "- **Threshold tuning** (biner) via Precision-Recall untuk F1 optimal.\n",
    "- **Confusion matrix ter-normalisasi** dan **classification_report** per-kelas.\n",
    "\n",
    "> **Cara pakai cepat:** Atur variabel pada *Config* (path & nama kolom target). Jika hanya punya salah satu target (biner atau multikelas), biarkan yang lain `None`."
   ]
  },
  {
   "cell_type": "code",
   "execution_count": 18,
   "metadata": {},
   "outputs": [
    {
     "name": "stdout",
     "output_type": "stream",
     "text": [
      "================================================================================\n",
      "TUGAS 2: REGRESI LOGISTIK DAN REGRESI SOFTMAX\n",
      "================================================================================\n"
     ]
    }
   ],
   "source": [
    "from sklearn.pipeline import Pipeline\n",
    "from sklearn.preprocessing import StandardScaler\n",
    "from sklearn.linear_model import LogisticRegression\n",
    "\n",
    "import numpy as np\n",
    "import pandas as pd\n",
    "import matplotlib.pyplot as plt\n",
    "import seaborn as sns\n",
    "from sklearn.model_selection import train_test_split\n",
    "from sklearn.metrics import accuracy_score, precision_score, recall_score, f1_score, confusion_matrix, classification_report\n",
    "import warnings\n",
    "warnings.filterwarnings('ignore')\n",
    "\n",
    "# Set random seed untuk reproduktibilitas\n",
    "np.random.seed(42)\n",
    "\n",
    "print(\"=\"*80)\n",
    "print(\"TUGAS 2: REGRESI LOGISTIK DAN REGRESI SOFTMAX\")\n",
    "print(\"=\"*80)"
   ]
  },
  {
   "cell_type": "markdown",
   "id": "8194addf",
   "metadata": {},
   "source": [
    "# BAGIAN I: PEMILIHAN DAN PRA-PEMROSESAN DATA"
   ]
  },
  {
   "cell_type": "code",
   "execution_count": 19,
   "metadata": {},
   "outputs": [
    {
     "name": "stdout",
     "output_type": "stream",
     "text": [
      "\n",
      "================================================================================\n",
      "BAGIAN I: PEMILIHAN DAN PRA-PEMROSESAN DATA\n",
      "================================================================================\n",
      "\n",
      "1. AKUISISI DATASET\n",
      "--------------------------------------------------------------------------------\n",
      "Dataset berhasil dimuat!\n",
      "Dimensi dataset: 569 baris × 31 kolom\n",
      "\n",
      "Kolom-kolom dalam dataset:\n",
      "  1. diagnosis\n",
      "  2. radius_mean\n",
      "  3. texture_mean\n",
      "  4. perimeter_mean\n",
      "  5. area_mean\n",
      "  6. smoothness_mean\n",
      "  7. compactness_mean\n",
      "  8. concavity_mean\n",
      "  9. concave points_mean\n",
      "  10. symmetry_mean\n",
      "  11. fractal_dimension_mean\n",
      "  12. radius_se\n",
      "  13. texture_se\n",
      "  14. perimeter_se\n",
      "  15. area_se\n",
      "  16. smoothness_se\n",
      "  17. compactness_se\n",
      "  18. concavity_se\n",
      "  19. concave points_se\n",
      "  20. symmetry_se\n",
      "  21. fractal_dimension_se\n",
      "  22. radius_worst\n",
      "  23. texture_worst\n",
      "  24. perimeter_worst\n",
      "  25. area_worst\n",
      "  26. smoothness_worst\n",
      "  27. compactness_worst\n",
      "  28. concavity_worst\n",
      "  29. concave points_worst\n",
      "  30. symmetry_worst\n",
      "  31. fractal_dimension_worst\n"
     ]
    }
   ],
   "source": [
    "print(\"\\n\" + \"=\"*80)\n",
    "print(\"BAGIAN I: PEMILIHAN DAN PRA-PEMROSESAN DATA\")\n",
    "print(\"=\"*80)\n",
    "\n",
    "# 1. Load Dataset\n",
    "print(\"\\n1. AKUISISI DATASET\")\n",
    "print(\"-\" * 80)\n",
    "\n",
    "# Definisikan nama kolom untuk wdbc.data karena file tidak punya header\n",
    "column_names = [\n",
    "    'id', 'diagnosis', 'radius_mean', 'texture_mean', 'perimeter_mean', 'area_mean', \n",
    "    'smoothness_mean', 'compactness_mean', 'concavity_mean', 'concave points_mean', \n",
    "    'symmetry_mean', 'fractal_dimension_mean', 'radius_se', 'texture_se', 'perimeter_se', \n",
    "    'area_se', 'smoothness_se', 'compactness_se', 'concavity_se', 'concave points_se', \n",
    "    'symmetry_se', 'fractal_dimension_se', 'radius_worst', 'texture_worst', 'perimeter_worst', \n",
    "    'area_worst', 'smoothness_worst', 'compactness_worst', 'concavity_worst', \n",
    "    'concave points_worst', 'symmetry_worst', 'fractal_dimension_worst'\n",
    "]\n",
    "\n",
    "# Ganti path file ini sesuai dengan lokasi file wdbc.data Anda\n",
    "file_path = '/home/wgg/proyek-jupyter/Tugas PMA/breast+cancer+wisconsin+diagnostic/wdbc.data'\n",
    "df = pd.read_csv(file_path, header=None, names=column_names)\n",
    "\n",
    "# Buang kolom 'id' yang tidak diperlukan\n",
    "if 'id' in df.columns:\n",
    "    df = df.drop('id', axis=1)\n",
    "\n",
    "# Definisikan nama kolom target yang benar\n",
    "target_column = 'diagnosis'\n",
    "\n",
    "print(f\"Dataset berhasil dimuat!\")\n",
    "print(f\"Dimensi dataset: {df.shape[0]} baris × {df.shape[1]} kolom\")\n",
    "print(f\"\\nKolom-kolom dalam dataset:\")\n",
    "for i, col in enumerate(df.columns, 1):\n",
    "    print(f\"  {i}. {col}\")"
   ]
  },
  {
   "cell_type": "markdown",
   "id": "ebc0bf98",
   "metadata": {},
   "source": [
    "### 2. Deskripsi Dataset\n",
    "---\n",
    "**Dataset: Wisconsin Breast Cancer (Diagnostic) Dataset**\n",
    "\n",
    "**Sumber:** UCI Machine Learning Repository\n",
    "\n",
    "**Permasalahan:**\n",
    "Dataset ini berisi fitur-fitur yang dihitung dari citra digital aspirasi jarum halus (FNA) dari massa payudara. Tujuannya adalah untuk mengklasifikasikan massa sebagai ganas (Malignant) atau jinak (Benign).\n",
    "\n",
    "**Fitur (30 fitur numerik):**\n",
    "- Berbagai pengukuran inti sel seperti radius, tekstur, keliling, luas, kehalusan, kekompakan, dll. (mean, se, worst).\n",
    "\n",
    "**Target Variable: `diagnosis` (Jenis tumor)**\n",
    "- **M:** Malignant (Ganas)\n",
    "- **B:** Benign (Jinak)"
   ]
  },
  {
   "cell_type": "code",
   "execution_count": 20,
   "metadata": {},
   "outputs": [
    {
     "name": "stdout",
     "output_type": "stream",
     "text": [
      "\n",
      "3. ANALISIS EKSPLORASI DATA\n",
      "--------------------------------------------------------------------------------\n",
      "\n",
      "Informasi Statistik Deskriptif:\n",
      "       radius_mean  texture_mean  perimeter_mean    area_mean  \\\n",
      "count   569.000000    569.000000      569.000000   569.000000   \n",
      "mean     14.127292     19.289649       91.969033   654.889104   \n",
      "std       3.524049      4.301036       24.298981   351.914129   \n",
      "min       6.981000      9.710000       43.790000   143.500000   \n",
      "25%      11.700000     16.170000       75.170000   420.300000   \n",
      "50%      13.370000     18.840000       86.240000   551.100000   \n",
      "75%      15.780000     21.800000      104.100000   782.700000   \n",
      "max      28.110000     39.280000      188.500000  2501.000000   \n",
      "\n",
      "       smoothness_mean  compactness_mean  concavity_mean  concave points_mean  \\\n",
      "count       569.000000        569.000000      569.000000           569.000000   \n",
      "mean          0.096360          0.104341        0.088799             0.048919   \n",
      "std           0.014064          0.052813        0.079720             0.038803   \n",
      "min           0.052630          0.019380        0.000000             0.000000   \n",
      "25%           0.086370          0.064920        0.029560             0.020310   \n",
      "50%           0.095870          0.092630        0.061540             0.033500   \n",
      "75%           0.105300          0.130400        0.130700             0.074000   \n",
      "max           0.163400          0.345400        0.426800             0.201200   \n",
      "\n",
      "       symmetry_mean  fractal_dimension_mean  ...  radius_worst  \\\n",
      "count     569.000000              569.000000  ...    569.000000   \n",
      "mean        0.181162                0.062798  ...     16.269190   \n",
      "std         0.027414                0.007060  ...      4.833242   \n",
      "min         0.106000                0.049960  ...      7.930000   \n",
      "25%         0.161900                0.057700  ...     13.010000   \n",
      "50%         0.179200                0.061540  ...     14.970000   \n",
      "75%         0.195700                0.066120  ...     18.790000   \n",
      "max         0.304000                0.097440  ...     36.040000   \n",
      "\n",
      "       texture_worst  perimeter_worst   area_worst  smoothness_worst  \\\n",
      "count     569.000000       569.000000   569.000000        569.000000   \n",
      "mean       25.677223       107.261213   880.583128          0.132369   \n",
      "std         6.146258        33.602542   569.356993          0.022832   \n",
      "min        12.020000        50.410000   185.200000          0.071170   \n",
      "25%        21.080000        84.110000   515.300000          0.116600   \n",
      "50%        25.410000        97.660000   686.500000          0.131300   \n",
      "75%        29.720000       125.400000  1084.000000          0.146000   \n",
      "max        49.540000       251.200000  4254.000000          0.222600   \n",
      "\n",
      "       compactness_worst  concavity_worst  concave points_worst  \\\n",
      "count         569.000000       569.000000            569.000000   \n",
      "mean            0.254265         0.272188              0.114606   \n",
      "std             0.157336         0.208624              0.065732   \n",
      "min             0.027290         0.000000              0.000000   \n",
      "25%             0.147200         0.114500              0.064930   \n",
      "50%             0.211900         0.226700              0.099930   \n",
      "75%             0.339100         0.382900              0.161400   \n",
      "max             1.058000         1.252000              0.291000   \n",
      "\n",
      "       symmetry_worst  fractal_dimension_worst  \n",
      "count      569.000000               569.000000  \n",
      "mean         0.290076                 0.083946  \n",
      "std          0.061867                 0.018061  \n",
      "min          0.156500                 0.055040  \n",
      "25%          0.250400                 0.071460  \n",
      "50%          0.282200                 0.080040  \n",
      "75%          0.317900                 0.092080  \n",
      "max          0.663800                 0.207500  \n",
      "\n",
      "[8 rows x 30 columns]\n",
      "\n",
      "\n",
      "Distribusi Kelas (diagnosis):\n",
      "diagnosis\n",
      "B    357\n",
      "M    212\n",
      "Name: count, dtype: int64\n",
      "\n",
      "\n",
      "Persentase Distribusi Kelas:\n",
      "  Kelas B: 62.74%\n",
      "  Kelas M: 37.26%\n",
      "\n",
      "\n",
      "Missing Values:\n",
      "diagnosis                  0\n",
      "radius_mean                0\n",
      "texture_mean               0\n",
      "perimeter_mean             0\n",
      "area_mean                  0\n",
      "smoothness_mean            0\n",
      "compactness_mean           0\n",
      "concavity_mean             0\n",
      "concave points_mean        0\n",
      "symmetry_mean              0\n",
      "fractal_dimension_mean     0\n",
      "radius_se                  0\n",
      "texture_se                 0\n",
      "perimeter_se               0\n",
      "area_se                    0\n",
      "smoothness_se              0\n",
      "compactness_se             0\n",
      "concavity_se               0\n",
      "concave points_se          0\n",
      "symmetry_se                0\n",
      "fractal_dimension_se       0\n",
      "radius_worst               0\n",
      "texture_worst              0\n",
      "perimeter_worst            0\n",
      "area_worst                 0\n",
      "smoothness_worst           0\n",
      "compactness_worst          0\n",
      "concavity_worst            0\n",
      "concave points_worst       0\n",
      "symmetry_worst             0\n",
      "fractal_dimension_worst    0\n",
      "dtype: int64\n"
     ]
    }
   ],
   "source": [
    "# 3. Analisis Eksplorasi Data\n",
    "print(\"\\n3. ANALISIS EKSPLORASI DATA\")\n",
    "print(\"-\" * 80)\n",
    "\n",
    "print(\"\\nInformasi Statistik Deskriptif:\")\n",
    "print(df.describe())\n",
    "\n",
    "print(f\"\\n\\nDistribusi Kelas ({target_column}):\")\n",
    "print(df[target_column].value_counts().sort_index())\n",
    "\n",
    "print(\"\\n\\nPersentase Distribusi Kelas:\")\n",
    "class_distribution = df[target_column].value_counts(normalize=True).sort_index() * 100\n",
    "for type_val, percentage in class_distribution.items():\n",
    "    print(f\"  Kelas {type_val}: {percentage:.2f}%\")\n",
    "\n",
    "# Cek missing values\n",
    "print(\"\\n\\nMissing Values:\")\n",
    "print(df.isnull().sum())"
   ]
  },
  {
   "cell_type": "code",
   "execution_count": 21,
   "metadata": {},
   "outputs": [
    {
     "name": "stdout",
     "output_type": "stream",
     "text": [
      "\n",
      "✓ Grafik distribusi kelas disimpan: distribusi_kelas.png\n"
     ]
    },
    {
     "data": {
      "image/png": "[encoded data removed]",
      "text/plain": [
       "<Figure size 1000x600 with 1 Axes>"
      ]
     },
     "metadata": {},
     "output_type": "display_data"
    }
   ],
   "source": [
    "# 4. Visualisasi Distribusi Kelas\n",
    "plt.figure(figsize=(10, 6))\n",
    "df[target_column].value_counts().sort_index().plot(kind='bar', color='steelblue', edgecolor='black')\n",
    "plt.title('Distribusi Kelas dalam Dataset', fontsize=14, fontweight='bold')\n",
    "plt.xlabel('Diagnosis (B=Jinak, M=Ganas)', fontsize=12)\n",
    "plt.ylabel('Jumlah Sample', fontsize=12)\n",
    "plt.xticks(rotation=0)\n",
    "plt.grid(axis='y', alpha=0.3)\n",
    "for i, v in enumerate(df[target_column].value_counts().sort_index().values):\n",
    "    plt.text(i, v + 1, str(v), ha='center', fontweight='bold')\n",
    "plt.tight_layout()\n",
    "plt.savefig('distribusi_kelas.png', dpi=300, bbox_inches='tight')\n",
    "print(\"\\n✓ Grafik distribusi kelas disimpan: distribusi_kelas.png\")\n",
    "plt.show() # Tampilkan grafik di notebook"
   ]
  },
  {
   "cell_type": "code",
   "execution_count": 23,
   "metadata": {},
   "outputs": [
    {
     "name": "stdout",
     "output_type": "stream",
     "text": [
      "\n",
      "4. PEMISAHAN FITUR DAN TARGET\n",
      "--------------------------------------------------------------------------------\n",
      "Dimensi Fitur (X): (569, 30)\n",
      "Dimensi Target (y): (569,)\n",
      "\n",
      "5. PEMBAGIAN DATA (STRATIFIED SAMPLING)\n",
      "--------------------------------------------------------------------------------\n",
      "Training Set: 455 samples (80.0%)\n",
      "Testing Set: 114 samples (20.0%)\n",
      "\n",
      "Distribusi Kelas di Training Set:\n",
      "diagnosis\n",
      "B    285\n",
      "M    170\n",
      "Name: count, dtype: int64\n",
      "\n",
      "Distribusi Kelas di Testing Set:\n",
      "diagnosis\n",
      "B    72\n",
      "M    42\n",
      "Name: count, dtype: int64\n",
      "\n",
      "Persentase Kelas (Verifikasi Stratifikasi):\n",
      "           Original  Train   Test\n",
      "diagnosis                        \n",
      "B             62.74  62.64  63.16\n",
      "M             37.26  37.36  36.84\n"
     ]
    }
   ],
   "source": [
    "# 5. Pemisahan Fitur dan Target\n",
    "print(\"\\n4. PEMISAHAN FITUR DAN TARGET\")\n",
    "print(\"-\" * 80)\n",
    "\n",
    "X = df.drop(target_column, axis=1)\n",
    "y = df[target_column]\n",
    "\n",
    "print(f\"Dimensi Fitur (X): {X.shape}\")\n",
    "print(f\"Dimensi Target (y): {y.shape}\")\n",
    "\n",
    "# 6. Stratified Train-Test Split\n",
    "print(\"\\n5. PEMBAGIAN DATA (STRATIFIED SAMPLING)\")\n",
    "print(\"-\" * 80)\n",
    "\n",
    "# Split dengan stratified sampling (80% train, 20% test)\n",
    "X_train, X_test, y_train, y_test = train_test_split(\n",
    "    X, y, \n",
    "    test_size=0.2, \n",
    "    random_state=42, \n",
    "    stratify=y\n",
    ")\n",
    "\n",
    "print(f\"Training Set: {X_train.shape[0]} samples ({X_train.shape[0]/len(X)*100:.1f}%)\")\n",
    "print(f\"Testing Set: {X_test.shape[0]} samples ({X_test.shape[0]/len(X)*100:.1f}%)\")\n",
    "\n",
    "print(\"\\nDistribusi Kelas di Training Set:\")\n",
    "print(y_train.value_counts().sort_index())\n",
    "\n",
    "print(\"\\nDistribusi Kelas di Testing Set:\")\n",
    "print(y_test.value_counts().sort_index())\n",
    "\n",
    "# Verifikasi stratifikasi\n",
    "print(\"\\nPersentase Kelas (Verifikasi Stratifikasi):\")\n",
    "print(pd.DataFrame({\n",
    "    'Original': (y.value_counts(normalize=True).sort_index() * 100).round(2),\n",
    "    'Train': (y_train.value_counts(normalize=True).sort_index() * 100).round(2),\n",
    "    'Test': (y_test.value_counts(normalize=True).sort_index() * 100).round(2)\n",
    "}))"
   ]
  },
  {
   "cell_type": "markdown",
   "metadata": {},
   "source": [
    "## A. Binary Logistic Regression (opsional)"
   ]
  },
  {
   "cell_type": "code",
   "execution_count": null,
   "metadata": {},
   "outputs": [
    {
     "name": "stdout",
     "output_type": "stream",
     "text": [
      "Lewati bagian Binary: TARGET_BINARY tidak diset atau tidak ada di kolom.\n"
     ]
    }
   ],
   "source": [
    "# 7. Feature Scaling (Standardization)\n",
    "print(\"\\n6. FEATURE SCALING (STANDARDIZATION)\")\n",
    "print(\"-\" * 80)\n",
    "\n",
    "scaler = StandardScaler()\n",
    "\n",
    "# Fit pada training set, transform pada train dan test\n",
    "X_train_scaled = scaler.fit_transform(X_train)\n",
    "X_test_scaled = scaler.transform(X_test)\n",
    "\n",
    "print(\"Standardization (Z-score normalization) diterapkan:\")\n",
    "print(\"  Formula: z = (x - μ) / σ\")\n",
    "print(\"  μ = mean, σ = standard deviation\")\n",
    "\n",
    "print(\"\\nStatistik Sebelum Scaling (Training Set):\")\n",
    "print(pd.DataFrame(X_train).describe().loc[['mean', 'std']].round(3))\n",
    "\n",
    "print(\"\\nStatistik Setelah Scaling (Training Set):\")\n",
    "print(pd.DataFrame(X_train_scaled, columns=X.columns).describe().loc[['mean', 'std']].round(3))\n",
    "\n",
    "print(\"\\n✓ Pra-pemrosesan data selesai!\")"
   ]
  },
  {
   "cell_type": "markdown",
   "metadata": {},
   "source": [
    "# BAGIAN II: IMPLEMENTASI MODEL KLASIFIKASI\n",
    "---\n",
    "## A. MODEL BINER: REGRESI LOGISTIK"
   ]
  },
  {
   "cell_type": "code",
   "execution_count": 25,
   "metadata": {},
   "outputs": [
    {
     "name": "stdout",
     "output_type": "stream",
     "text": [
      "\n",
      "1. KONVERSI TARGET KE BINARY\n",
      "--------------------------------------------------------------------------------\n",
      "\n",
      "Distribusi Kelas Binary (Training Set):\n",
      "  Kelas Negatif (Benign): 285 samples (62.64%)\n",
      "  Kelas Positif (Malignant): 170 samples (37.36%)\n",
      "\n",
      "2. PELATIHAN MODEL REGRESI LOGISTIK\n",
      "--------------------------------------------------------------------------------\n",
      "Melatih model dengan solver LBFGS (Limited-memory BFGS)...\n"
     ]
    },
    {
     "ename": "NameError",
     "evalue": "name 'X_train_scaled' is not defined",
     "output_type": "error",
     "traceback": [
      "\u001b[0;31m---------------------------------------------------------------------------\u001b[0m",
      "\u001b[0;31mNameError\u001b[0m                                 Traceback (most recent call last)",
      "Cell \u001b[0;32mIn[25], line 31\u001b[0m\n\u001b[1;32m     24\u001b[0m \u001b[38;5;66;03m# Train Logistic Regression dengan LBFGS\u001b[39;00m\n\u001b[1;32m     25\u001b[0m logistic_model \u001b[38;5;241m=\u001b[39m LogisticRegression(\n\u001b[1;32m     26\u001b[0m     solver\u001b[38;5;241m=\u001b[39m\u001b[38;5;124m'\u001b[39m\u001b[38;5;124mlbfgs\u001b[39m\u001b[38;5;124m'\u001b[39m,\n\u001b[1;32m     27\u001b[0m     max_iter\u001b[38;5;241m=\u001b[39m\u001b[38;5;241m1000\u001b[39m,\n\u001b[1;32m     28\u001b[0m     random_state\u001b[38;5;241m=\u001b[39m\u001b[38;5;241m42\u001b[39m\n\u001b[1;32m     29\u001b[0m )\n\u001b[0;32m---> 31\u001b[0m logistic_model\u001b[38;5;241m.\u001b[39mfit(\u001b[43mX_train_scaled\u001b[49m, y_train_binary)\n\u001b[1;32m     33\u001b[0m \u001b[38;5;28mprint\u001b[39m(\u001b[38;5;124m\"\u001b[39m\u001b[38;5;124m✓ Model berhasil dilatih!\u001b[39m\u001b[38;5;124m\"\u001b[39m)\n\u001b[1;32m     34\u001b[0m \u001b[38;5;28mprint\u001b[39m(\u001b[38;5;124mf\u001b[39m\u001b[38;5;124m\"\u001b[39m\u001b[38;5;130;01m\\n\u001b[39;00m\u001b[38;5;124mParameter Model:\u001b[39m\u001b[38;5;124m\"\u001b[39m)\n",
      "\u001b[0;31mNameError\u001b[0m: name 'X_train_scaled' is not defined"
     ]
    }
   ],
   "source": [
    "# 1. Konversi Target ke Binary\n",
    "print(\"\\n1. KONVERSI TARGET KE BINARY\")\n",
    "print(\"-\" * 80)\n",
    "\n",
    "# Konversi: 'B' -> 0, 'M' -> 1\n",
    "def convert_to_binary(y_series):\n",
    "    return y_series.map({'B': 0, 'M': 1})\n",
    "\n",
    "y_train_binary = convert_to_binary(y_train)\n",
    "y_test_binary = convert_to_binary(y_test)\n",
    "\n",
    "print(\"\\nDistribusi Kelas Binary (Training Set):\")\n",
    "unique, counts = np.unique(y_train_binary, return_counts=True)\n",
    "for cls, cnt in zip(unique, counts):\n",
    "    label = \"Kelas Negatif (Benign)\" if cls == 0 else \"Kelas Positif (Malignant)\"\n",
    "    print(f\"  {label}: {cnt} samples ({cnt/len(y_train_binary)*100:.2f}%)\")\n",
    "\n",
    "# 2. Pelatihan Model Regresi Logistik\n",
    "print(\"\\n2. PELATIHAN MODEL REGRESI LOGISTIK\")\n",
    "print(\"-\" * 80)\n",
    "\n",
    "print(\"Melatih model dengan solver LBFGS (Limited-memory BFGS)...\")\n",
    "\n",
    "# Train Logistic Regression dengan LBFGS\n",
    "logistic_model = LogisticRegression(\n",
    "    solver='lbfgs',\n",
    "    max_iter=1000,\n",
    "    random_state=42\n",
    ")\n",
    "\n",
    "logistic_model.fit(X_train_scaled, y_train_binary)\n",
    "\n",
    "print(\"✓ Model berhasil dilatih!\")\n",
    "print(f\"\\nParameter Model:\")\n",
    "print(f\"  Intercept (β₀): {logistic_model.intercept_[0]:.4f}\")\n",
    "print(f\"  Coefficients (β₁...):\")\n",
    "for i, (feat, coef) in enumerate(zip(X.columns, logistic_model.coef_[0]), 1):\n",
    "    print(f\"    {feat}: {coef:.4f}\")"
   ]
  },
  {
   "cell_type": "markdown",
   "metadata": {},
   "source": [
    "# BAGIAN II: IMPLEMENTASI MODEL KLASIFIKASI\n",
    "---\n",
    "## A. MODEL BINER: REGRESI LOGISTIK\n"
   ]
  },
  {
   "cell_type": "code",
   "execution_count": 26,
   "metadata": {},
   "outputs": [
    {
     "name": "stdout",
     "output_type": "stream",
     "text": [
      "\n",
      "1. KONVERSI TARGET KE BINARY\n",
      "--------------------------------------------------------------------------------\n",
      "\n",
      "Distribusi Kelas Binary (Training Set):\n",
      "  Kelas Negatif (Benign): 285 samples (62.64%)\n",
      "  Kelas Positif (Malignant): 170 samples (37.36%)\n",
      "\n",
      "2. PELATIHAN MODEL REGRESI LOGISTIK\n",
      "--------------------------------------------------------------------------------\n",
      "Melatih model dengan solver LBFGS (Limited-memory BFGS)...\n"
     ]
    },
    {
     "ename": "NameError",
     "evalue": "name 'X_train_scaled' is not defined",
     "output_type": "error",
     "traceback": [
      "\u001b[0;31m---------------------------------------------------------------------------\u001b[0m",
      "\u001b[0;31mNameError\u001b[0m                                 Traceback (most recent call last)",
      "Cell \u001b[0;32mIn[26], line 31\u001b[0m\n\u001b[1;32m     24\u001b[0m \u001b[38;5;66;03m# Train Logistic Regression dengan LBFGS\u001b[39;00m\n\u001b[1;32m     25\u001b[0m logistic_model \u001b[38;5;241m=\u001b[39m LogisticRegression(\n\u001b[1;32m     26\u001b[0m     solver\u001b[38;5;241m=\u001b[39m\u001b[38;5;124m'\u001b[39m\u001b[38;5;124mlbfgs\u001b[39m\u001b[38;5;124m'\u001b[39m,\n\u001b[1;32m     27\u001b[0m     max_iter\u001b[38;5;241m=\u001b[39m\u001b[38;5;241m1000\u001b[39m,\n\u001b[1;32m     28\u001b[0m     random_state\u001b[38;5;241m=\u001b[39m\u001b[38;5;241m42\u001b[39m\n\u001b[1;32m     29\u001b[0m )\n\u001b[0;32m---> 31\u001b[0m logistic_model\u001b[38;5;241m.\u001b[39mfit(\u001b[43mX_train_scaled\u001b[49m, y_train_binary)\n\u001b[1;32m     33\u001b[0m \u001b[38;5;28mprint\u001b[39m(\u001b[38;5;124m\"\u001b[39m\u001b[38;5;124m✓ Model berhasil dilatih!\u001b[39m\u001b[38;5;124m\"\u001b[39m)\n\u001b[1;32m     34\u001b[0m \u001b[38;5;28mprint\u001b[39m(\u001b[38;5;124mf\u001b[39m\u001b[38;5;124m\"\u001b[39m\u001b[38;5;130;01m\\n\u001b[39;00m\u001b[38;5;124mParameter Model:\u001b[39m\u001b[38;5;124m\"\u001b[39m)\n",
      "\u001b[0;31mNameError\u001b[0m: name 'X_train_scaled' is not defined"
     ]
    }
   ],
   "source": [
    "# 1. Konversi Target ke Binary\n",
    "print(\"\\n1. KONVERSI TARGET KE BINARY\")\n",
    "print(\"-\" * 80)\n",
    "\n",
    "# Konversi: 'B' -> 0, 'M' -> 1\n",
    "def convert_to_binary(y_series):\n",
    "    return y_series.map({'B': 0, 'M': 1})\n",
    "\n",
    "y_train_binary = convert_to_binary(y_train)\n",
    "y_test_binary = convert_to_binary(y_test)\n",
    "\n",
    "print(\"\\nDistribusi Kelas Binary (Training Set):\")\n",
    "unique, counts = np.unique(y_train_binary, return_counts=True)\n",
    "for cls, cnt in zip(unique, counts):\n",
    "    label = \"Kelas Negatif (Benign)\" if cls == 0 else \"Kelas Positif (Malignant)\"\n",
    "    print(f\"  {label}: {cnt} samples ({cnt/len(y_train_binary)*100:.2f}%)\")\n",
    "\n",
    "# 2. Pelatihan Model Regresi Logistik\n",
    "print(\"\\n2. PELATIHAN MODEL REGRESI LOGISTIK\")\n",
    "print(\"-\" * 80)\n",
    "\n",
    "print(\"Melatih model dengan solver LBFGS (Limited-memory BFGS)...\")\n",
    "\n",
    "# Train Logistic Regression dengan LBFGS\n",
    "logistic_model = LogisticRegression(\n",
    "    solver='lbfgs',\n",
    "    max_iter=1000,\n",
    "    random_state=42\n",
    ")\n",
    "\n",
    "logistic_model.fit(X_train_scaled, y_train_binary)\n",
    "\n",
    "print(\"✓ Model berhasil dilatih!\")\n",
    "print(f\"\\nParameter Model:\")\n",
    "print(f\"  Intercept (β₀): {logistic_model.intercept_[0]:.4f}\")\n",
    "print(f\"  Coefficients (β₁...):\")\n",
    "for i, (feat, coef) in enumerate(zip(X.columns, logistic_model.coef_[0]), 1):\n",
    "    print(f\"    {feat}: {coef:.4f}\")"
   ]
  },
  {
   "cell_type": "markdown",
   "metadata": {},
   "source": [
    "---\n",
    "**Catatan**: Jika dataset Anda memiliki fitur tanggal/waktu, pertimbangkan *time-based split* alih-alih stratified split biasa untuk menghindari kebocoran temporal."
   ]
  },
  {
   "cell_type": "markdown",
   "id": "e5fb02b3",
   "metadata": {},
   "source": []
  },
  {
   "cell_type": "markdown",
   "id": "daf4ed96",
   "metadata": {},
   "source": [
    "### 3. Analisis Cost Function: Binary Cross-Entropy (Log Loss)\n",
    "---\n",
    "\n",
    "**Formula Binary Cross-Entropy (Log Loss):**\n",
    "$$L(y, \\hat{y}) = -\\frac{1}{m} \\sum_{i=1}^{m} [y^{(i)} \\log(\\hat{y}^{(i)}) + (1 - y^{(i)}) \\log(1 - \\hat{y}^{(i)})]$$\n",
    "\n",
    "Dimana:\n",
    "- $m$ = jumlah sample\n",
    "- $y^{(i)}$ = label aktual (0 atau 1)\n",
    "- $\\hat{y}^{(i)}$ = probabilitas prediksi (output sigmoid)\n",
    "\n",
    "**Mengapa Binary Cross-Entropy lebih cocok daripada MSE?**\n",
    "\n",
    "1.  **CONVEXITY (Konveksitas):**\n",
    "    - Binary Cross-Entropy menghasilkan fungsi konveks ketika dikombinasikan dengan sigmoid, sehingga *gradient descent* dijamin menemukan *global minimum*.\n",
    "    - MSE dengan sigmoid menghasilkan fungsi non-konveks dengan banyak *local minima*.\n",
    "2.  **GRADIENT BEHAVIOR:**\n",
    "    - Binary Cross-Entropy: Gradien besar ketika prediksi sangat salah, dan kecil ketika prediksi mendekati benar (pembelajaran adaptif).\n",
    "    - MSE: Gradien bisa sangat kecil (*vanishing gradient*) bahkan ketika prediksi sangat salah, menyebabkan pembelajaran menjadi lambat.\n",
    "3.  **PROBABILISTIC INTERPRETATION:**\n",
    "    - Binary Cross-Entropy berasal dari *Maximum Likelihood Estimation* (MLE) untuk distribusi Bernoulli, memberikan interpretasi probabilistik yang jelas."
   ]
  },
  {
   "cell_type": "markdown",
   "id": "48cbbbb2",
   "metadata": {},
   "source": []
  },
  {
   "cell_type": "code",
   "execution_count": 27,
   "id": "96556b8a",
   "metadata": {},
   "outputs": [
    {
     "name": "stdout",
     "output_type": "stream",
     "text": [
      "\n",
      "4. PREDIKSI DAN EVALUASI MODEL BINARY\n",
      "--------------------------------------------------------------------------------\n"
     ]
    },
    {
     "ename": "NameError",
     "evalue": "name 'X_test_scaled' is not defined",
     "output_type": "error",
     "traceback": [
      "\u001b[0;31m---------------------------------------------------------------------------\u001b[0m",
      "\u001b[0;31mNameError\u001b[0m                                 Traceback (most recent call last)",
      "Cell \u001b[0;32mIn[27], line 5\u001b[0m\n\u001b[1;32m      2\u001b[0m \u001b[38;5;28mprint\u001b[39m(\u001b[38;5;124m\"\u001b[39m\u001b[38;5;130;01m\\n\u001b[39;00m\u001b[38;5;124m4. PREDIKSI DAN EVALUASI MODEL BINARY\u001b[39m\u001b[38;5;124m\"\u001b[39m)\n\u001b[1;32m      3\u001b[0m \u001b[38;5;28mprint\u001b[39m(\u001b[38;5;124m\"\u001b[39m\u001b[38;5;124m-\u001b[39m\u001b[38;5;124m\"\u001b[39m \u001b[38;5;241m*\u001b[39m \u001b[38;5;241m80\u001b[39m)\n\u001b[0;32m----> 5\u001b[0m y_pred_binary \u001b[38;5;241m=\u001b[39m logistic_model\u001b[38;5;241m.\u001b[39mpredict(\u001b[43mX_test_scaled\u001b[49m)\n\u001b[1;32m      7\u001b[0m \u001b[38;5;66;03m# Metrik Evaluasi\u001b[39;00m\n\u001b[1;32m      8\u001b[0m accuracy_binary \u001b[38;5;241m=\u001b[39m accuracy_score(y_test_binary, y_pred_binary)\n",
      "\u001b[0;31mNameError\u001b[0m: name 'X_test_scaled' is not defined"
     ]
    }
   ],
   "source": [
    "# 4. Prediksi dan Evaluasi Model Binary\n",
    "print(\"\\n4. PREDIKSI DAN EVALUASI MODEL BINARY\")\n",
    "print(\"-\" * 80)\n",
    "\n",
    "y_pred_binary = logistic_model.predict(X_test_scaled)\n",
    "\n",
    "# Metrik Evaluasi\n",
    "accuracy_binary = accuracy_score(y_test_binary, y_pred_binary)\n",
    "precision_binary = precision_score(y_test_binary, y_pred_binary, average='binary')\n",
    "recall_binary = recall_score(y_test_binary, y_pred_binary, average='binary')\n",
    "f1_binary = f1_score(y_test_binary, y_pred_binary, average='binary')\n",
    "\n",
    "print(\"HASIL EVALUASI MODEL BINARY (LOGISTIC REGRESSION):\")\n",
    "print(f\"  Accuracy:  {accuracy_binary:.4f} ({accuracy_binary*100:.2f}%)\")\n",
    "print(f\"  Precision: {precision_binary:.4f}\")\n",
    "print(f\"  Recall:    {recall_binary:.4f}\")\n",
    "print(f\"  F1-Score:  {f1_binary:.4f}\")\n",
    "\n",
    "print(\"\\nClassification Report:\")\n",
    "print(classification_report(y_test_binary, y_pred_binary, \n",
    "                          target_names=['Benign (0)', 'Malignant (1)']))\n",
    "\n",
    "# Confusion Matrix\n",
    "cm_binary = confusion_matrix(y_test_binary, y_pred_binary)\n",
    "plt.figure(figsize=(8, 6))\n",
    "sns.heatmap(cm_binary, annot=True, fmt='d', cmap='Blues', \n",
    "            xticklabels=['Benign (0)', 'Malignant (1)'],\n",
    "            yticklabels=['Benign (0)', 'Malignant (1)'])\n",
    "plt.title('Confusion Matrix - Binary Classification', fontsize=14, fontweight='bold')\n",
    "plt.ylabel('Actual', fontsize=12)\n",
    "plt.xlabel('Predicted', fontsize=12)\n",
    "plt.tight_layout()\n",
    "plt.savefig('confusion_matrix_binary.png', dpi=300, bbox_inches='tight')\n",
    "print(\"\\n✓ Confusion matrix disimpan: confusion_matrix_binary.png\")\n",
    "plt.show()"
   ]
  },
  {
   "cell_type": "markdown",
   "id": "56ba3a17",
   "metadata": {},
   "source": [
    "## B. MODEL MULTI-KELAS: REGRESI SOFTMAX"
   ]
  },
  {
   "cell_type": "code",
   "execution_count": 28,
   "id": "2a2c132e",
   "metadata": {},
   "outputs": [
    {
     "name": "stdout",
     "output_type": "stream",
     "text": [
      "\n",
      "1. IMPLEMENTASI MODEL REGRESI SOFTMAX\n",
      "--------------------------------------------------------------------------------\n",
      "Target asli memiliki 2 kelas: ['B', 'M']\n",
      "Melatih model Softmax Regression (Multinomial Logistic Regression)...\n"
     ]
    },
    {
     "ename": "NameError",
     "evalue": "name 'X_train_scaled' is not defined",
     "output_type": "error",
     "traceback": [
      "\u001b[0;31m---------------------------------------------------------------------------\u001b[0m",
      "\u001b[0;31mNameError\u001b[0m                                 Traceback (most recent call last)",
      "Cell \u001b[0;32mIn[28], line 17\u001b[0m\n\u001b[1;32m      9\u001b[0m softmax_model \u001b[38;5;241m=\u001b[39m LogisticRegression(\n\u001b[1;32m     10\u001b[0m     multi_class\u001b[38;5;241m=\u001b[39m\u001b[38;5;124m'\u001b[39m\u001b[38;5;124mmultinomial\u001b[39m\u001b[38;5;124m'\u001b[39m,\n\u001b[1;32m     11\u001b[0m     solver\u001b[38;5;241m=\u001b[39m\u001b[38;5;124m'\u001b[39m\u001b[38;5;124mlbfgs\u001b[39m\u001b[38;5;124m'\u001b[39m,\n\u001b[1;32m     12\u001b[0m     max_iter\u001b[38;5;241m=\u001b[39m\u001b[38;5;241m1000\u001b[39m,\n\u001b[1;32m     13\u001b[0m     random_state\u001b[38;5;241m=\u001b[39m\u001b[38;5;241m42\u001b[39m\n\u001b[1;32m     14\u001b[0m )\n\u001b[1;32m     16\u001b[0m \u001b[38;5;66;03m# y_train di sini adalah target asli ('B', 'M')\u001b[39;00m\n\u001b[0;32m---> 17\u001b[0m softmax_model\u001b[38;5;241m.\u001b[39mfit(\u001b[43mX_train_scaled\u001b[49m, y_train)\n\u001b[1;32m     19\u001b[0m \u001b[38;5;28mprint\u001b[39m(\u001b[38;5;124m\"\u001b[39m\u001b[38;5;124m✓ Model Softmax berhasil dilatih!\u001b[39m\u001b[38;5;124m\"\u001b[39m)\n\u001b[1;32m     20\u001b[0m \u001b[38;5;28mprint\u001b[39m(\u001b[38;5;124mf\u001b[39m\u001b[38;5;124m\"\u001b[39m\u001b[38;5;130;01m\\n\u001b[39;00m\u001b[38;5;124mJumlah kelas yang diprediksi: \u001b[39m\u001b[38;5;132;01m{\u001b[39;00m\u001b[38;5;28mlen\u001b[39m(softmax_model\u001b[38;5;241m.\u001b[39mclasses_)\u001b[38;5;132;01m}\u001b[39;00m\u001b[38;5;124m\"\u001b[39m)\n",
      "\u001b[0;31mNameError\u001b[0m: name 'X_train_scaled' is not defined"
     ]
    }
   ],
   "source": [
    "# 1. Implementasi Model Softmax\n",
    "print(\"\\n1. IMPLEMENTASI MODEL REGRESI SOFTMAX\")\n",
    "print(\"-\" * 80)\n",
    "\n",
    "print(f\"Target asli memiliki {len(np.unique(y))} kelas: {sorted(np.unique(y))}\")\n",
    "print(\"Melatih model Softmax Regression (Multinomial Logistic Regression)...\")\n",
    "\n",
    "# Train Softmax Regression\n",
    "softmax_model = LogisticRegression(\n",
    "    multi_class='multinomial',\n",
    "    solver='lbfgs',\n",
    "    max_iter=1000,\n",
    "    random_state=42\n",
    ")\n",
    "\n",
    "# y_train di sini adalah target asli ('B', 'M')\n",
    "softmax_model.fit(X_train_scaled, y_train)\n",
    "\n",
    "print(\"✓ Model Softmax berhasil dilatih!\")\n",
    "print(f\"\\nJumlah kelas yang diprediksi: {len(softmax_model.classes_)}\")\n",
    "print(f\"Kelas: {softmax_model.classes_}\")"
   ]
  },
  {
   "cell_type": "markdown",
   "id": "d6505af0",
   "metadata": {},
   "source": [
    "### 2. Fungsi Softmax - Formula dan Penjelasan\n",
    "---\n",
    "**Formula Fungsi Softmax:**\n",
    "$$\\sigma(\\mathbf{z})_j = \\frac{e^{z_j}}{\\sum_{k=1}^{K} e^{z_k}}$$\n",
    "\n",
    "Dimana:\n",
    "- $z_j$ = logit untuk kelas j ($z_j = \\mathbf{w}_j^T \\mathbf{x} + b_j$)\n",
    "- $K$ = jumlah total kelas\n",
    "- $\\sigma(\\mathbf{z})_j$ = probabilitas untuk kelas j\n",
    "\n",
    "**Perbedaan Fundamental: Softmax vs Sigmoid**\n",
    "1. **Output Range**:\n",
    "   - **Sigmoid**: Menghasilkan probabilitas tunggal antara (0, 1). Ideal untuk klasifikasi biner.\n",
    "   - **Softmax**: Menghasilkan vektor probabilitas untuk K kelas, di mana jumlah total probabilitas adalah 1.\n",
    "2. **Ketergantungan**:\n",
    "   - **Sigmoid**: Output bersifat independen. Cocok untuk *multi-label classification*.\n",
    "   - **Softmax**: Output saling bergantung (*mutually exclusive*). Cocok untuk *multi-class classification*.\n",
    "\n",
    "**Mengapa Probabilitas Softmax Selalu Berjumlah 1?**\n",
    "Karena setiap probabilitas kelas $j$ dinormalisasi dengan cara dibagi oleh jumlah total nilai eksponensial dari semua kelas. Secara matematis, $\\sum_{j=1}^{K} \\sigma(\\mathbf{z})_j = 1$. Ini memastikan outputnya dapat diinterpretasikan sebagai distribusi probabilitas yang valid."
   ]
  },
  {
   "cell_type": "code",
   "execution_count": 30,
   "id": "1eb92919",
   "metadata": {},
   "outputs": [
    {
     "name": "stdout",
     "output_type": "stream",
     "text": [
      "\n",
      "3. PREDIKSI DAN EVALUASI MODEL SOFTMAX\n",
      "--------------------------------------------------------------------------------\n"
     ]
    },
    {
     "ename": "NameError",
     "evalue": "name 'X_test_scaled' is not defined",
     "output_type": "error",
     "traceback": [
      "\u001b[0;31m---------------------------------------------------------------------------\u001b[0m",
      "\u001b[0;31mNameError\u001b[0m                                 Traceback (most recent call last)",
      "Cell \u001b[0;32mIn[30], line 5\u001b[0m\n\u001b[1;32m      2\u001b[0m \u001b[38;5;28mprint\u001b[39m(\u001b[38;5;124m\"\u001b[39m\u001b[38;5;130;01m\\n\u001b[39;00m\u001b[38;5;124m3. PREDIKSI DAN EVALUASI MODEL SOFTMAX\u001b[39m\u001b[38;5;124m\"\u001b[39m)\n\u001b[1;32m      3\u001b[0m \u001b[38;5;28mprint\u001b[39m(\u001b[38;5;124m\"\u001b[39m\u001b[38;5;124m-\u001b[39m\u001b[38;5;124m\"\u001b[39m \u001b[38;5;241m*\u001b[39m \u001b[38;5;241m80\u001b[39m)\n\u001b[0;32m----> 5\u001b[0m y_pred_softmax \u001b[38;5;241m=\u001b[39m softmax_model\u001b[38;5;241m.\u001b[39mpredict(\u001b[43mX_test_scaled\u001b[49m)\n\u001b[1;32m      6\u001b[0m y_pred_proba_softmax \u001b[38;5;241m=\u001b[39m softmax_model\u001b[38;5;241m.\u001b[39mpredict_proba(X_test_scaled)\n\u001b[1;32m      8\u001b[0m \u001b[38;5;66;03m# Metrik Evaluasi\u001b[39;00m\n",
      "\u001b[0;31mNameError\u001b[0m: name 'X_test_scaled' is not defined"
     ]
    }
   ],
   "source": [
    "# 3. Prediksi dan Evaluasi Model Softmax\n",
    "print(\"\\n3. PREDIKSI DAN EVALUASI MODEL SOFTMAX\")\n",
    "print(\"-\" * 80)\n",
    "\n",
    "y_pred_softmax = softmax_model.predict(X_test_scaled)\n",
    "y_pred_proba_softmax = softmax_model.predict_proba(X_test_scaled)\n",
    "\n",
    "# Metrik Evaluasi\n",
    "accuracy_softmax = accuracy_score(y_test, y_pred_softmax)\n",
    "precision_softmax = precision_score(y_test, y_pred_softmax, average='weighted')\n",
    "recall_softmax = recall_score(y_test, y_pred_softmax, average='weighted')\n",
    "f1_softmax = f1_score(y_test, y_pred_softmax, average='weighted')\n",
    "\n",
    "print(\"HASIL EVALUASI MODEL MULTI-CLASS (SOFTMAX REGRESSION):\")\n",
    "print(f\"  Accuracy:  {accuracy_softmax:.4f} ({accuracy_softmax*100:.2f}%)\")\n",
    "print(f\"  Precision: {precision_softmax:.4f} (weighted)\")\n",
    "print(f\"  Recall:    {recall_softmax:.4f} (weighted)\")\n",
    "print(f\"  F1-Score:  {f1_softmax:.4f} (weighted)\")\n",
    "\n",
    "print(\"\\nClassification Report (Per-Class Metrics):\")\n",
    "print(classification_report(y_test, y_pred_softmax))\n",
    "\n",
    "# Confusion Matrix\n",
    "cm_softmax = confusion_matrix(y_test, y_pred_softmax)\n",
    "plt.figure(figsize=(10, 8))\n",
    "sns.heatmap(cm_softmax, annot=True, fmt='d', cmap='Blues',\n",
    "            xticklabels=sorted(np.unique(y)),\n",
    "            yticklabels=sorted(np.unique(y)))\n",
    "plt.title('Confusion Matrix - Multi-Class Classification', fontsize=14, fontweight='bold')\n",
    "plt.ylabel('Actual', fontsize=12)\n",
    "plt.xlabel('Predicted', fontsize=12)\n",
    "plt.tight_layout()\n",
    "plt.savefig('confusion_matrix_softmax.png', dpi=300, bbox_inches='tight')\n",
    "print(\"\\n✓ Confusion matrix disimpan: confusion_matrix_softmax.png\")\n",
    "plt.show()"
   ]
  },
  {
   "cell_type": "code",
   "execution_count": 31,
   "id": "b5ba54b4",
   "metadata": {},
   "outputs": [
    {
     "name": "stdout",
     "output_type": "stream",
     "text": [
      "\n",
      "4. CONTOH PREDIKSI PROBABILITAS SOFTMAX\n",
      "--------------------------------------------------------------------------------\n",
      "Sample pertama dari test set:\n"
     ]
    },
    {
     "ename": "NameError",
     "evalue": "name 'X_test_scaled' is not defined",
     "output_type": "error",
     "traceback": [
      "\u001b[0;31m---------------------------------------------------------------------------\u001b[0m",
      "\u001b[0;31mNameError\u001b[0m                                 Traceback (most recent call last)",
      "Cell \u001b[0;32mIn[31], line 5\u001b[0m\n\u001b[1;32m      3\u001b[0m \u001b[38;5;28mprint\u001b[39m(\u001b[38;5;124m\"\u001b[39m\u001b[38;5;124m-\u001b[39m\u001b[38;5;124m\"\u001b[39m \u001b[38;5;241m*\u001b[39m \u001b[38;5;241m80\u001b[39m)\n\u001b[1;32m      4\u001b[0m \u001b[38;5;28mprint\u001b[39m(\u001b[38;5;124m\"\u001b[39m\u001b[38;5;124mSample pertama dari test set:\u001b[39m\u001b[38;5;124m\"\u001b[39m)\n\u001b[0;32m----> 5\u001b[0m \u001b[38;5;28mprint\u001b[39m(\u001b[38;5;124mf\u001b[39m\u001b[38;5;124m\"\u001b[39m\u001b[38;5;124mFitur (scaled): \u001b[39m\u001b[38;5;132;01m{\u001b[39;00m\u001b[43mX_test_scaled\u001b[49m[\u001b[38;5;241m0\u001b[39m]\u001b[38;5;132;01m}\u001b[39;00m\u001b[38;5;124m\"\u001b[39m)\n\u001b[1;32m      6\u001b[0m \u001b[38;5;28mprint\u001b[39m(\u001b[38;5;124mf\u001b[39m\u001b[38;5;124m\"\u001b[39m\u001b[38;5;124mActual class: \u001b[39m\u001b[38;5;132;01m{\u001b[39;00my_test\u001b[38;5;241m.\u001b[39miloc[\u001b[38;5;241m0\u001b[39m]\u001b[38;5;132;01m}\u001b[39;00m\u001b[38;5;124m\"\u001b[39m)\n\u001b[1;32m      7\u001b[0m \u001b[38;5;28mprint\u001b[39m(\u001b[38;5;124mf\u001b[39m\u001b[38;5;124m\"\u001b[39m\u001b[38;5;124mPredicted class: \u001b[39m\u001b[38;5;132;01m{\u001b[39;00my_pred_softmax[\u001b[38;5;241m0\u001b[39m]\u001b[38;5;132;01m}\u001b[39;00m\u001b[38;5;124m\"\u001b[39m)\n",
      "\u001b[0;31mNameError\u001b[0m: name 'X_test_scaled' is not defined"
     ]
    }
   ],
   "source": [
    "# 4. Contoh Prediksi Probabilitas Softmax\n",
    "print(\"\\n4. CONTOH PREDIKSI PROBABILITAS SOFTMAX\")\n",
    "print(\"-\" * 80)\n",
    "print(\"Sample pertama dari test set:\")\n",
    "print(f\"Fitur (scaled): {X_test_scaled[0]}\")\n",
    "print(f\"Actual class: {y_test.iloc[0]}\")\n",
    "print(f\"Predicted class: {y_pred_softmax[0]}\")\n",
    "print(\"\\nProbabilitas untuk setiap kelas:\")\n",
    "for i, cls in enumerate(softmax_model.classes_):\n",
    "    print(f\"  P(Diagnosis={cls}) = {y_pred_proba_softmax[0][i]:.4f} ({y_pred_proba_softmax[0][i]*100:.2f}%)\")\n",
    "print(f\"\\nTotal probabilitas: {np.sum(y_pred_proba_softmax[0]):.6f} ≈ 1.000 ✓\")"
   ]
  },
  {
   "cell_type": "markdown",
   "id": "ae2e8dc9",
   "metadata": {},
   "source": [
    "# BAGIAN III: ANALISIS HASIL DAN DISKUSI"
   ]
  },
  {
   "cell_type": "code",
   "execution_count": 32,
   "id": "cfa8c957",
   "metadata": {},
   "outputs": [
    {
     "name": "stdout",
     "output_type": "stream",
     "text": [
      "\n",
      "1. KOMPARASI KINERJA MODEL\n",
      "--------------------------------------------------------------------------------\n"
     ]
    },
    {
     "ename": "NameError",
     "evalue": "name 'accuracy_binary' is not defined",
     "output_type": "error",
     "traceback": [
      "\u001b[0;31m---------------------------------------------------------------------------\u001b[0m",
      "\u001b[0;31mNameError\u001b[0m                                 Traceback (most recent call last)",
      "Cell \u001b[0;32mIn[32], line 8\u001b[0m\n\u001b[1;32m      3\u001b[0m \u001b[38;5;28mprint\u001b[39m(\u001b[38;5;124m\"\u001b[39m\u001b[38;5;124m-\u001b[39m\u001b[38;5;124m\"\u001b[39m \u001b[38;5;241m*\u001b[39m \u001b[38;5;241m80\u001b[39m)\n\u001b[1;32m      5\u001b[0m \u001b[38;5;66;03m# Tabel Perbandingan\u001b[39;00m\n\u001b[1;32m      6\u001b[0m comparison_df \u001b[38;5;241m=\u001b[39m pd\u001b[38;5;241m.\u001b[39mDataFrame({\n\u001b[1;32m      7\u001b[0m     \u001b[38;5;124m'\u001b[39m\u001b[38;5;124mModel\u001b[39m\u001b[38;5;124m'\u001b[39m: [\u001b[38;5;124m'\u001b[39m\u001b[38;5;124mBinary Logistic\u001b[39m\u001b[38;5;124m'\u001b[39m, \u001b[38;5;124m'\u001b[39m\u001b[38;5;124mMulti-Class Softmax\u001b[39m\u001b[38;5;124m'\u001b[39m],\n\u001b[0;32m----> 8\u001b[0m     \u001b[38;5;124m'\u001b[39m\u001b[38;5;124mAccuracy\u001b[39m\u001b[38;5;124m'\u001b[39m: [\u001b[43maccuracy_binary\u001b[49m, accuracy_softmax],\n\u001b[1;32m      9\u001b[0m     \u001b[38;5;124m'\u001b[39m\u001b[38;5;124mPrecision\u001b[39m\u001b[38;5;124m'\u001b[39m: [precision_binary, precision_softmax],\n\u001b[1;32m     10\u001b[0m     \u001b[38;5;124m'\u001b[39m\u001b[38;5;124mRecall\u001b[39m\u001b[38;5;124m'\u001b[39m: [recall_binary, recall_softmax],\n\u001b[1;32m     11\u001b[0m     \u001b[38;5;124m'\u001b[39m\u001b[38;5;124mF1-Score\u001b[39m\u001b[38;5;124m'\u001b[39m: [f1_binary, f1_softmax]\n\u001b[1;32m     12\u001b[0m })\n\u001b[1;32m     14\u001b[0m \u001b[38;5;28mprint\u001b[39m(\u001b[38;5;124m\"\u001b[39m\u001b[38;5;130;01m\\n\u001b[39;00m\u001b[38;5;124mTabel Perbandingan Metrik:\u001b[39m\u001b[38;5;124m\"\u001b[39m)\n\u001b[1;32m     15\u001b[0m display(comparison_df)\n",
      "\u001b[0;31mNameError\u001b[0m: name 'accuracy_binary' is not defined"
     ]
    }
   ],
   "source": [
    "# 1. Komparasi Kinerja Model\n",
    "print(\"\\n1. KOMPARASI KINERJA MODEL\")\n",
    "print(\"-\" * 80)\n",
    "\n",
    "# Tabel Perbandingan\n",
    "comparison_df = pd.DataFrame({\n",
    "    'Model': ['Binary Logistic', 'Multi-Class Softmax'],\n",
    "    'Accuracy': [accuracy_binary, accuracy_softmax],\n",
    "    'Precision': [precision_binary, precision_softmax],\n",
    "    'Recall': [recall_binary, recall_softmax],\n",
    "    'F1-Score': [f1_binary, f1_softmax]\n",
    "})\n",
    "\n",
    "print(\"\\nTabel Perbandingan Metrik:\")\n",
    "display(comparison_df)\n",
    "\n",
    "# Visualisasi Perbandingan\n",
    "fig, axes = plt.subplots(1, 2, figsize=(14, 5))\n",
    "\n",
    "# Bar plot perbandingan metrik\n",
    "metrics = ['Accuracy', 'Precision', 'Recall', 'F1-Score']\n",
    "binary_scores = [accuracy_binary, precision_binary, recall_binary, f1_binary]\n",
    "softmax_scores = [accuracy_softmax, precision_softmax, recall_softmax, f1_softmax]\n",
    "\n",
    "x = np.arange(len(metrics))\n",
    "width = 0.35\n",
    "\n",
    "axes[0].bar(x - width/2, binary_scores, width, label='Binary Logistic', color='skyblue', edgecolor='black')\n",
    "axes[0].bar(x + width/2, softmax_scores, width, label='Multi-Class Softmax', color='lightcoral', edgecolor='black')\n",
    "axes[0].set_xlabel('Metrics', fontsize=11)\n",
    "axes[0].set_ylabel('Score', fontsize=11)\n",
    "axes[0].set_title('Perbandingan Performa Model', fontsize=12, fontweight='bold')\n",
    "axes[0].set_xticks(x)\n",
    "axes[0].set_xticklabels(metrics)\n",
    "axes[0].legend()\n",
    "axes[0].grid(axis='y', alpha=0.3)\n",
    "axes[0].set_ylim([0, 1.1])\n",
    "\n",
    "for i, (b, s) in enumerate(zip(binary_scores, softmax_scores)):\n",
    "    axes[0].text(i - width/2, b + 0.02, f'{b:.3f}', ha='center', fontsize=9)\n",
    "    axes[0].text(i + width/2, s + 0.02, f'{s:.3f}', ha='center', fontsize=9)\n",
    "\n",
    "# Bar plot perbandingan akurasi\n",
    "axes[1].bar(['Binary\\nLogistic', 'Multi-Class\\nSoftmax'], \n",
    "            [accuracy_binary*100, accuracy_softmax*100],\n",
    "            color=['skyblue', 'lightcoral'],\n",
    "            edgecolor='black')\n",
    "axes[1].set_ylabel('Accuracy (%)', fontsize=11)\n",
    "axes[1].set_title('Perbandingan Accuracy', fontsize=12, fontweight='bold')\n",
    "axes[1].grid(axis='y', alpha=0.3)\n",
    "axes[1].set_ylim([0, 110])\n",
    "\n",
    "for i, val in enumerate([accuracy_binary*100, accuracy_softmax*100]):\n",
    "    axes[1].text(i, val + 2, f'{val:.2f}%', ha='center', fontweight='bold', fontsize=10)\n",
    "\n",
    "plt.tight_layout()\n",
    "plt.savefig('model_comparison.png', dpi=300, bbox_inches='tight')\n",
    "print(\"\\n✓ Grafik perbandingan disimpan: model_comparison.png\")\n",
    "plt.show()"
   ]
  },
  {
   "cell_type": "markdown",
   "id": "221754c9",
   "metadata": {},
   "source": [
    "### 2. Kesimpulan dan Analisis\n",
    "---\n",
    "**ANALISIS PERBANDINGAN MODEL**\n",
    "\n",
    "**1. PERFORMA KESELURUHAN:**\n",
    "- **Binary Logistic Regression:**\n",
    "    - Accuracy: {accuracy_binary*100:.2f}%\n",
    "    - F1-Score (untuk kelas Malignant): {f1_binary:.4f}\n",
    "- **Multi-Class Softmax Regression:**\n",
    "    - Accuracy: {accuracy_softmax*100:.2f}%\n",
    "    - F1-Score (rata-rata): {f1_softmax:.4f}\n",
    "\n",
    "**2. ANALISIS KOMPARATIF:**\n",
    "- **Kesamaan Performa**: Untuk masalah klasifikasi biner, Regresi Logistik dan Regresi Softmax secara matematis setara. Hasil performa yang didapat dari kedua model ini sangat mirip atau identik.\n",
    "- **Tujuan Model**: \n",
    "    - *Binary Logistic* didesain khusus untuk masalah dua kelas. \n",
    "    - *Softmax* adalah generalisasi untuk K kelas, dan untuk K=2, ia bekerja seperti model biner.\n",
    "\n",
    "**3. MODEL MANA YANG LEBIH TEPAT?**\n",
    "Keduanya valid, tetapi **Regresi Logistik Biner** lebih *to-the-point* dan konvensional untuk masalah ini. Keuntungan Softmax adalah fleksibilitasnya yang bisa langsung dipakai untuk masalah dengan lebih dari 2 kelas.\n",
    "\n",
    "**4. KESIMPULAN AKHIR:**\n",
    "Pada dataset Breast Cancer yang secara natural bersifat biner (Malignant/Benign), kedua model memberikan hasil yang sangat baik dan mirip. Tidak ada model yang secara signifikan \"lebih baik\" dalam hal performa untuk dataset ini."
   ]
  },
  {
   "cell_type": "code",
   "execution_count": 33,
   "id": "9a154a8b",
   "metadata": {},
   "outputs": [
    {
     "name": "stdout",
     "output_type": "stream",
     "text": [
      "\n",
      "\n",
      "================================================================================\n",
      "EXPORT HASIL UNTUK LAPORAN\n",
      "================================================================================\n"
     ]
    },
    {
     "ename": "NameError",
     "evalue": "name 'accuracy_binary' is not defined",
     "output_type": "error",
     "traceback": [
      "\u001b[0;31m---------------------------------------------------------------------------\u001b[0m",
      "\u001b[0;31mNameError\u001b[0m                                 Traceback (most recent call last)",
      "Cell \u001b[0;32mIn[33], line 12\u001b[0m\n\u001b[1;32m      6\u001b[0m \u001b[38;5;28mprint\u001b[39m(\u001b[38;5;124m\"\u001b[39m\u001b[38;5;124m=\u001b[39m\u001b[38;5;124m\"\u001b[39m\u001b[38;5;241m*\u001b[39m\u001b[38;5;241m80\u001b[39m)\n\u001b[1;32m      8\u001b[0m \u001b[38;5;66;03m# Save hasil ke CSV\u001b[39;00m\n\u001b[1;32m      9\u001b[0m results_df \u001b[38;5;241m=\u001b[39m pd\u001b[38;5;241m.\u001b[39mDataFrame({\n\u001b[1;32m     10\u001b[0m     \u001b[38;5;124m'\u001b[39m\u001b[38;5;124mModel\u001b[39m\u001b[38;5;124m'\u001b[39m: [\u001b[38;5;124m'\u001b[39m\u001b[38;5;124mBinary Logistic Regression\u001b[39m\u001b[38;5;124m'\u001b[39m, \u001b[38;5;124m'\u001b[39m\u001b[38;5;124mMulti-Class Softmax Regression\u001b[39m\u001b[38;5;124m'\u001b[39m],\n\u001b[1;32m     11\u001b[0m     \u001b[38;5;124m'\u001b[39m\u001b[38;5;124mClasses\u001b[39m\u001b[38;5;124m'\u001b[39m: [\u001b[38;5;241m2\u001b[39m, \u001b[38;5;241m2\u001b[39m],\n\u001b[0;32m---> 12\u001b[0m     \u001b[38;5;124m'\u001b[39m\u001b[38;5;124mAccuracy\u001b[39m\u001b[38;5;124m'\u001b[39m: [\u001b[43maccuracy_binary\u001b[49m, accuracy_softmax],\n\u001b[1;32m     13\u001b[0m     \u001b[38;5;124m'\u001b[39m\u001b[38;5;124mPrecision\u001b[39m\u001b[38;5;124m'\u001b[39m: [precision_binary, precision_softmax],\n\u001b[1;32m     14\u001b[0m     \u001b[38;5;124m'\u001b[39m\u001b[38;5;124mRecall\u001b[39m\u001b[38;5;124m'\u001b[39m: [recall_binary, recall_softmax],\n\u001b[1;32m     15\u001b[0m     \u001b[38;5;124m'\u001b[39m\u001b[38;5;124mF1_Score\u001b[39m\u001b[38;5;124m'\u001b[39m: [f1_binary, f1_softmax]\n\u001b[1;32m     16\u001b[0m })\n\u001b[1;32m     17\u001b[0m results_df\u001b[38;5;241m.\u001b[39mto_csv(\u001b[38;5;124m'\u001b[39m\u001b[38;5;124mmodel_results.csv\u001b[39m\u001b[38;5;124m'\u001b[39m, index\u001b[38;5;241m=\u001b[39m\u001b[38;5;28;01mFalse\u001b[39;00m)\n\u001b[1;32m     18\u001b[0m \u001b[38;5;28mprint\u001b[39m(\u001b[38;5;124m\"\u001b[39m\u001b[38;5;124m✓ Hasil disimpan ke: model_results.csv\u001b[39m\u001b[38;5;124m\"\u001b[39m)\n",
      "\u001b[0;31mNameError\u001b[0m: name 'accuracy_binary' is not defined"
     ]
    }
   ],
   "source": [
    "# ============================================================================\n",
    "# EXPORT HASIL UNTUK LAPORAN\n",
    "# ============================================================================\n",
    "print(\"\\n\\n\" + \"=\"*80)\n",
    "print(\"EXPORT HASIL UNTUK LAPORAN\")\n",
    "print(\"=\"*80)\n",
    "\n",
    "# Save hasil ke CSV\n",
    "results_df = pd.DataFrame({\n",
    "    'Model': ['Binary Logistic Regression', 'Multi-Class Softmax Regression'],\n",
    "    'Classes': [2, 2],\n",
    "    'Accuracy': [accuracy_binary, accuracy_softmax],\n",
    "    'Precision': [precision_binary, precision_softmax],\n",
    "    'Recall': [recall_binary, recall_softmax],\n",
    "    'F1_Score': [f1_binary, f1_softmax]\n",
    "})\n",
    "results_df.to_csv('model_results.csv', index=False)\n",
    "print(\"✓ Hasil disimpan ke: model_results.csv\")\n",
    "\n",
    "# Save coefficients\n",
    "coef_df = pd.DataFrame({\n",
    "    'Feature': X.columns,\n",
    "    'Binary_Coef': logistic_model.coef_[0],\n",
    "})\n",
    "coef_df['Softmax_Coef'] = softmax_model.coef_[0]\n",
    "coef_df.to_csv('model_coefficients.csv', index=False)\n",
    "print(\"✓ Koefisien model disimpan ke: model_coefficients.csv\")\n",
    "\n",
    "# Save predictions\n",
    "predictions_df = pd.DataFrame({\n",
    "    'Actual_MultiClass': y_test.values,\n",
    "    'Actual_Binary': y_test_binary,\n",
    "    'Predicted_Binary': y_pred_binary,\n",
    "    'Predicted_Softmax': y_pred_softmax\n",
    "})\n",
    "predictions_df.to_csv('predictions.csv', index=False)\n",
    "print(\"✓ Prediksi disimpan ke: predictions.csv\")"
   ]
  },
  {
   "cell_type": "markdown",
   "id": "953659c0",
   "metadata": {},
   "source": [
    "---\n",
    "# TUGAS SELESAI!\n",
    "\n",
    "**File yang dihasilkan:**\n",
    "1. `distribusi_kelas.png`\n",
    "2. `confusion_matrix_binary.png`\n",
    "3. `confusion_matrix_softmax.png`\n",
    "4. `model_comparison.png`\n",
    "5. `model_results.csv`\n",
    "6. `model_coefficients.csv`\n",
    "7. `predictions.csv`"
   ]
  },
  {
   "cell_type": "code",
   "execution_count": null,
   "id": "3fcac7f4",
   "metadata": {},
   "outputs": [],
   "source": []
  }
 ],
 "metadata": {
  "kernelspec": {
   "display_name": ".venv (3.10.12)",
   "language": "python",
   "name": "python3"
  },
  "language_info": {
   "codemirror_mode": {
    "name": "ipython",
    "version": 3
   },
   "file_extension": ".py",
   "mimetype": "text/x-python",
   "name": "python",
   "nbconvert_exporter": "python",
   "pygments_lexer": "ipython3",
   "version": "3.10.12"
  }
 },
 "nbformat": 4,
 "nbformat_minor": 5
}
