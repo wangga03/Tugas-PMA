{
 "cells": [
  {
   "cell_type": "markdown",
   "metadata": {},
   "source": [
    "# Klasifikasi DT, Ensemble Learning, dan Random Forest — Kelompok 3\\nFitur yang digunakan: **mean radius**, **mean texture**, **mean perimeter**\\n\\nDataset: `sklearn.datasets.load_breast_cancer()`"
   ],
   "id": "5a209163"
  },
  {
   "cell_type": "markdown",
   "metadata": {},
   "source": [
    "## 1. Setup & Data Loading"
   ],
   "id": "575efdb4"
  },
  {
   "cell_type": "code",
   "execution_count": null,
   "metadata": {},
   "outputs": [],
   "source": [
    "\n",
    "import numpy as np\n",
    "import pandas as pd\n",
    "import matplotlib.pyplot as plt\n",
    "\n",
    "from sklearn.datasets import load_breast_cancer\n",
    "from sklearn.model_selection import train_test_split, cross_val_score, StratifiedKFold\n",
    "from sklearn.tree import DecisionTreeClassifier\n",
    "from sklearn.ensemble import BaggingClassifier, VotingClassifier, RandomForestClassifier\n",
    "from sklearn.linear_model import LogisticRegression\n",
    "from sklearn.metrics import (\n",
    "    ConfusionMatrixDisplay, confusion_matrix, precision_recall_fscore_support, accuracy_score\n",
    ")\n",
    "from sklearn.preprocessing import StandardScaler\n",
    "from sklearn.pipeline import Pipeline\n",
    "\n",
    "data = load_breast_cancer()\n",
    "selected_features = ['mean radius', 'mean texture', 'mean perimeter']  # Kelompok 3\n",
    "selected_idx = [list(data.feature_names).index(f) for f in selected_features]\n",
    "\n",
    "X = data.data[:, selected_idx]\n",
    "y = data.target\n",
    "\n",
    "X_train, X_test, y_train, y_test = train_test_split(\n",
    "    X, y, test_size=0.2, random_state=42, stratify=y\n",
    ")\n",
    "\n",
    "cv = StratifiedKFold(n_splits=4, shuffle=True, random_state=42)\n",
    "print('Features:', selected_features)\n",
    "print('Train size:', X_train.shape, 'Test size:', X_test.shape)\n"
   ],
   "id": "1ce78bb7"
  },
  {
   "cell_type": "markdown",
   "metadata": {},
   "source": [
    "## 2. Decision Tree Classifier — 4-fold CV (Gini vs Entropy)"
   ],
   "id": "1f0f30b8"
  },
  {
   "cell_type": "code",
   "execution_count": null,
   "metadata": {},
   "outputs": [],
   "source": [
    "\n",
    "dt_gini = DecisionTreeClassifier(criterion='gini', random_state=42)\n",
    "dt_entropy = DecisionTreeClassifier(criterion='entropy', random_state=42)\n",
    "\n",
    "scores_gini = cross_val_score(dt_gini, X_train, y_train, cv=cv, scoring='accuracy')\n",
    "scores_entropy = cross_val_score(dt_entropy, X_train, y_train, cv=cv, scoring='accuracy')\n",
    "\n",
    "import pandas as pd\n",
    "dt_cv_df = pd.DataFrame({\n",
    "    'Fold': np.arange(1, len(scores_gini) + 1),\n",
    "    'Gini': scores_gini,\n",
    "    'Entropy': scores_entropy\n",
    "})\n",
    "dt_cv_summary = pd.DataFrame({\n",
    "    'Criterion': ['Gini', 'Entropy'],\n",
    "    'Mean Accuracy': [scores_gini.mean(), scores_entropy.mean()],\n",
    "    'Std Accuracy': [scores_gini.std(), scores_entropy.std()]\n",
    "})\n",
    "dt_cv_df, dt_cv_summary\n"
   ],
   "id": "c5f89d77"
  },
  {
   "cell_type": "code",
   "execution_count": null,
   "metadata": {},
   "outputs": [],
   "source": [
    "\n",
    "plt.figure()\n",
    "plt.title(\"Decision Tree CV Accuracy (Gini vs Entropy) - Kelompok 3\")\n",
    "plt.bar(dt_cv_summary['Criterion'], dt_cv_summary['Mean Accuracy'])\n",
    "plt.ylabel(\"Mean Accuracy (4-fold)\")\n",
    "plt.xlabel(\"Criterion\")\n",
    "plt.tight_layout()\n",
    "plt.show()\n"
   ],
   "id": "27b66f3e"
  },
  {
   "cell_type": "markdown",
   "metadata": {},
   "source": [
    "## 3. Ensemble (Pasting) vs Single Decision Tree — Akurasi"
   ],
   "id": "f6ce4860"
  },
  {
   "cell_type": "code",
   "execution_count": null,
   "metadata": {},
   "outputs": [],
   "source": [
    "\n",
    "dt_single = DecisionTreeClassifier(random_state=42)\n",
    "dt_single.fit(X_train, y_train)\n",
    "acc_single = accuracy_score(y_test, dt_single.predict(X_test))\n",
    "\n",
    "pasting = BaggingClassifier(\n",
    "    base_estimator=DecisionTreeClassifier(random_state=42),\n",
    "    n_estimators=100,\n",
    "    max_samples=100,\n",
    "    bootstrap=False,\n",
    "    random_state=42\n",
    ")\n",
    "pasting.fit(X_train, y_train)\n",
    "acc_pasting = accuracy_score(y_test, pasting.predict(X_test))\n",
    "\n",
    "pasting_df = pd.DataFrame({\n",
    "    'Model': ['DecisionTree (single)', 'Pasting Ensemble'],\n",
    "    'Test Accuracy': [acc_single, acc_pasting]\n",
    "})\n",
    "pasting_df\n"
   ],
   "id": "b1f6c1d3"
  },
  {
   "cell_type": "code",
   "execution_count": null,
   "metadata": {},
   "outputs": [],
   "source": [
    "\n",
    "plt.figure()\n",
    "plt.title(\"Pasting Ensemble vs Single Tree - Test Accuracy\")\n",
    "plt.bar(pasting_df['Model'], pasting_df['Test Accuracy'])\n",
    "plt.ylabel(\"Accuracy\")\n",
    "plt.xlabel(\"Model\")\n",
    "plt.xticks(rotation=15)\n",
    "plt.tight_layout()\n",
    "plt.show()\n"
   ],
   "id": "a77673e9"
  },
  {
   "cell_type": "markdown",
   "metadata": {},
   "source": [
    "## 4. Voting Classifier (Soft) — Logistic Regression + Decision Tree"
   ],
   "id": "b81487cb"
  },
  {
   "cell_type": "code",
   "execution_count": null,
   "metadata": {},
   "outputs": [],
   "source": [
    "\n",
    "logreg = Pipeline([\n",
    "    ('scaler', StandardScaler()),\n",
    "    ('clf', LogisticRegression(max_iter=1000, random_state=42))\n",
    "])\n",
    "dt_for_vote = DecisionTreeClassifier(random_state=42)\n",
    "\n",
    "voting = VotingClassifier(\n",
    "    estimators=[('lr', logreg), ('dt', dt_for_vote)],\n",
    "    voting='soft'\n",
    ")\n",
    "voting.fit(X_train, y_train)\n",
    "\n",
    "y_pred_vote = voting.predict(X_test)\n",
    "cm = confusion_matrix(y_test, y_pred_vote)\n",
    "cm\n"
   ],
   "id": "d48ce841"
  },
  {
   "cell_type": "code",
   "execution_count": null,
   "metadata": {},
   "outputs": [],
   "source": [
    "\n",
    "disp = ConfusionMatrixDisplay(confusion_matrix=cm, display_labels=load_breast_cancer().target_names)\n",
    "plt.figure()\n",
    "disp.plot(values_format='d')\n",
    "plt.title(\"Confusion Matrix - Soft Voting (LogReg + Decision Tree)\")\n",
    "plt.tight_layout()\n",
    "plt.show()\n"
   ],
   "id": "fa068e88"
  },
  {
   "cell_type": "code",
   "execution_count": null,
   "metadata": {},
   "outputs": [],
   "source": [
    "\n",
    "prec, rec, f1, support = precision_recall_fscore_support(y_test, y_pred_vote, labels=[0,1])\n",
    "pr_df = pd.DataFrame({\n",
    "    'Class (0=malignant, 1=benign)': [0, 1],\n",
    "    'Precision': prec,\n",
    "    'Recall': rec,\n",
    "    'F1-score': f1,\n",
    "    'Support': support\n",
    "})\n",
    "pr_df\n"
   ],
   "id": "13901be3"
  },
  {
   "cell_type": "markdown",
   "metadata": {},
   "source": [
    "## 5. Random Forest vs Single Decision Tree — Akurasi & Feature Importance"
   ],
   "id": "a7b4ac72"
  },
  {
   "cell_type": "code",
   "execution_count": null,
   "metadata": {},
   "outputs": [],
   "source": [
    "\n",
    "rf = RandomForestClassifier(n_estimators=100, max_depth=None, random_state=42)\n",
    "rf.fit(X_train, y_train)\n",
    "acc_rf = accuracy_score(y_test, rf.predict(X_test))\n",
    "\n",
    "rf_compare_df = pd.DataFrame({\n",
    "    'Model': ['DecisionTree (single)', 'RandomForest (n=100)'],\n",
    "    'Test Accuracy': [acc_single, acc_rf]\n",
    "})\n",
    "rf_compare_df\n"
   ],
   "id": "b64af9c9"
  },
  {
   "cell_type": "code",
   "execution_count": null,
   "metadata": {},
   "outputs": [],
   "source": [
    "\n",
    "dt_importance = pd.Series(dt_single.feature_importances_, index=selected_features)\n",
    "rf_importance = pd.Series(rf.feature_importances_, index=selected_features)\n",
    "\n",
    "fi_df = pd.DataFrame({\n",
    "    'Feature': selected_features,\n",
    "    'DT_Importance': dt_importance.values,\n",
    "    'RF_Importance': rf_importance.values\n",
    "})\n",
    "fi_df\n"
   ],
   "id": "bed726f8"
  },
  {
   "cell_type": "code",
   "execution_count": null,
   "metadata": {},
   "outputs": [],
   "source": [
    "\n",
    "plt.figure()\n",
    "plt.title(\"Random Forest Feature Importances (Kelompok 3)\")\n",
    "plt.bar(rf_importance.index, rf_importance.values)\n",
    "plt.ylabel(\"Importance\")\n",
    "plt.xlabel(\"Feature\")\n",
    "plt.xticks(rotation=15)\n",
    "plt.tight_layout()\n",
    "plt.show()\n"
   ],
   "id": "27791d07"
  }
 ],
 "nbformat": 4,
 "nbformat_minor": 5,
 "metadata": {}
}
