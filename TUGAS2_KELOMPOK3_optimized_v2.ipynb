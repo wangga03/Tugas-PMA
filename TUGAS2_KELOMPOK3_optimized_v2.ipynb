{
 "cells": [
  {
   "cell_type": "markdown",
   "metadata": {},
   "source": [
    "# TUGAS2_KELOMPOK3 — Optimized (v2)\n",
    "\n",
    "Perbaikan untuk dataset `.csv` yang kamu kirim (**glass_clean.csv**):\n",
    "- Auto-detect kolom target multiclass (`Type`) bila ada.\n",
    "- Membuat **target biner otomatis** (one-vs-rest terhadap kelas mayoritas) jika kolom biner belum tersedia.\n",
    "- **Grafik distribusi kelas** (multiclass & biner).\n",
    "- **Confusion Matrix** untuk biner **(dengan threshold terbaik F1)** dan untuk multikelas.\n",
    "- **Tabel perbandingan performa** (Accuracy & F1 Macro) antar model + **grafik perbandingan accuracy**.\n",
    "\n",
    "> Catatan: Struktur pipeline dari versi sebelumnya dipertahankan. Hanya **menambah** komponen yang diminta."
   ]
  },
  {
   "cell_type": "code",
   "execution_count": 15,
   "metadata": {},
   "outputs": [],
   "source": [
    "# === Config khusus file kamu ===\n",
    "DATASET_PATH = 'breast+cancer+wisconsin+diagnostic/wdbc.data'  # file yang kamu unggah\n",
    "TARGET_MULTICLASS = None  # akan diisi otomatis jika 'Type' ada\n",
    "TARGET_BINARY = None       # akan dibuat otomatis dari target multiclass jika belum ada\n",
    "ID_COLUMNS = []\n",
    "RANDOM_STATE = 42\n",
    "TEST_SIZE = 0.2\n",
    "N_SPLITS = 5"
   ]
  },
  {
   "cell_type": "code",
   "execution_count": 16,
   "metadata": {},
   "outputs": [],
   "source": [
    "# === Imports (tetap sama dengan sebelumnya, tidak diubah jika sudah benar) ===\n",
    "import numpy as np\n",
    "import pandas as pd\n",
    "import matplotlib.pyplot as plt\n",
    "from sklearn.model_selection import train_test_split, StratifiedKFold, cross_validate\n",
    "from sklearn.preprocessing import StandardScaler, OneHotEncoder\n",
    "from sklearn.compose import ColumnTransformer\n",
    "from sklearn.pipeline import Pipeline\n",
    "from sklearn.impute import SimpleImputer\n",
    "from sklearn.linear_model import LogisticRegression\n",
    "from sklearn.metrics import (classification_report, confusion_matrix, ConfusionMatrixDisplay,\n",
    "                              precision_recall_curve)\n",
    "import warnings; warnings.filterwarnings('ignore')"
   ]
  },
  {
   "cell_type": "code",
   "execution_count": 17,
   "metadata": {},
   "outputs": [
    {
     "name": "stdout",
     "output_type": "stream",
     "text": [
      "Shape: (568, 32)\n"
     ]
    },
    {
     "data": {
      "text/html": [
       "<div>\n",
       "<style scoped>\n",
       "    .dataframe tbody tr th:only-of-type {\n",
       "        vertical-align: middle;\n",
       "    }\n",
       "\n",
       "    .dataframe tbody tr th {\n",
       "        vertical-align: top;\n",
       "    }\n",
       "\n",
       "    .dataframe thead th {\n",
       "        text-align: right;\n",
       "    }\n",
       "</style>\n",
       "<table border=\"1\" class=\"dataframe\">\n",
       "  <thead>\n",
       "    <tr style=\"text-align: right;\">\n",
       "      <th></th>\n",
       "      <th>842302</th>\n",
       "      <th>M</th>\n",
       "      <th>17.99</th>\n",
       "      <th>10.38</th>\n",
       "      <th>122.8</th>\n",
       "      <th>1001</th>\n",
       "      <th>0.1184</th>\n",
       "      <th>0.2776</th>\n",
       "      <th>0.3001</th>\n",
       "      <th>0.1471</th>\n",
       "      <th>...</th>\n",
       "      <th>25.38</th>\n",
       "      <th>17.33</th>\n",
       "      <th>184.6</th>\n",
       "      <th>2019</th>\n",
       "      <th>0.1622</th>\n",
       "      <th>0.6656</th>\n",
       "      <th>0.7119</th>\n",
       "      <th>0.2654</th>\n",
       "      <th>0.4601</th>\n",
       "      <th>0.1189</th>\n",
       "    </tr>\n",
       "  </thead>\n",
       "  <tbody>\n",
       "    <tr>\n",
       "      <th>0</th>\n",
       "      <td>842517</td>\n",
       "      <td>M</td>\n",
       "      <td>20.57</td>\n",
       "      <td>17.77</td>\n",
       "      <td>132.90</td>\n",
       "      <td>1326.0</td>\n",
       "      <td>0.08474</td>\n",
       "      <td>0.07864</td>\n",
       "      <td>0.0869</td>\n",
       "      <td>0.07017</td>\n",
       "      <td>...</td>\n",
       "      <td>24.99</td>\n",
       "      <td>23.41</td>\n",
       "      <td>158.80</td>\n",
       "      <td>1956.0</td>\n",
       "      <td>0.1238</td>\n",
       "      <td>0.1866</td>\n",
       "      <td>0.2416</td>\n",
       "      <td>0.1860</td>\n",
       "      <td>0.2750</td>\n",
       "      <td>0.08902</td>\n",
       "    </tr>\n",
       "    <tr>\n",
       "      <th>1</th>\n",
       "      <td>84300903</td>\n",
       "      <td>M</td>\n",
       "      <td>19.69</td>\n",
       "      <td>21.25</td>\n",
       "      <td>130.00</td>\n",
       "      <td>1203.0</td>\n",
       "      <td>0.10960</td>\n",
       "      <td>0.15990</td>\n",
       "      <td>0.1974</td>\n",
       "      <td>0.12790</td>\n",
       "      <td>...</td>\n",
       "      <td>23.57</td>\n",
       "      <td>25.53</td>\n",
       "      <td>152.50</td>\n",
       "      <td>1709.0</td>\n",
       "      <td>0.1444</td>\n",
       "      <td>0.4245</td>\n",
       "      <td>0.4504</td>\n",
       "      <td>0.2430</td>\n",
       "      <td>0.3613</td>\n",
       "      <td>0.08758</td>\n",
       "    </tr>\n",
       "    <tr>\n",
       "      <th>2</th>\n",
       "      <td>84348301</td>\n",
       "      <td>M</td>\n",
       "      <td>11.42</td>\n",
       "      <td>20.38</td>\n",
       "      <td>77.58</td>\n",
       "      <td>386.1</td>\n",
       "      <td>0.14250</td>\n",
       "      <td>0.28390</td>\n",
       "      <td>0.2414</td>\n",
       "      <td>0.10520</td>\n",
       "      <td>...</td>\n",
       "      <td>14.91</td>\n",
       "      <td>26.50</td>\n",
       "      <td>98.87</td>\n",
       "      <td>567.7</td>\n",
       "      <td>0.2098</td>\n",
       "      <td>0.8663</td>\n",
       "      <td>0.6869</td>\n",
       "      <td>0.2575</td>\n",
       "      <td>0.6638</td>\n",
       "      <td>0.17300</td>\n",
       "    </tr>\n",
       "    <tr>\n",
       "      <th>3</th>\n",
       "      <td>84358402</td>\n",
       "      <td>M</td>\n",
       "      <td>20.29</td>\n",
       "      <td>14.34</td>\n",
       "      <td>135.10</td>\n",
       "      <td>1297.0</td>\n",
       "      <td>0.10030</td>\n",
       "      <td>0.13280</td>\n",
       "      <td>0.1980</td>\n",
       "      <td>0.10430</td>\n",
       "      <td>...</td>\n",
       "      <td>22.54</td>\n",
       "      <td>16.67</td>\n",
       "      <td>152.20</td>\n",
       "      <td>1575.0</td>\n",
       "      <td>0.1374</td>\n",
       "      <td>0.2050</td>\n",
       "      <td>0.4000</td>\n",
       "      <td>0.1625</td>\n",
       "      <td>0.2364</td>\n",
       "      <td>0.07678</td>\n",
       "    </tr>\n",
       "    <tr>\n",
       "      <th>4</th>\n",
       "      <td>843786</td>\n",
       "      <td>M</td>\n",
       "      <td>12.45</td>\n",
       "      <td>15.70</td>\n",
       "      <td>82.57</td>\n",
       "      <td>477.1</td>\n",
       "      <td>0.12780</td>\n",
       "      <td>0.17000</td>\n",
       "      <td>0.1578</td>\n",
       "      <td>0.08089</td>\n",
       "      <td>...</td>\n",
       "      <td>15.47</td>\n",
       "      <td>23.75</td>\n",
       "      <td>103.40</td>\n",
       "      <td>741.6</td>\n",
       "      <td>0.1791</td>\n",
       "      <td>0.5249</td>\n",
       "      <td>0.5355</td>\n",
       "      <td>0.1741</td>\n",
       "      <td>0.3985</td>\n",
       "      <td>0.12440</td>\n",
       "    </tr>\n",
       "  </tbody>\n",
       "</table>\n",
       "<p>5 rows × 32 columns</p>\n",
       "</div>"
      ],
      "text/plain": [
       "     842302  M  17.99  10.38   122.8    1001   0.1184   0.2776  0.3001  \\\n",
       "0    842517  M  20.57  17.77  132.90  1326.0  0.08474  0.07864  0.0869   \n",
       "1  84300903  M  19.69  21.25  130.00  1203.0  0.10960  0.15990  0.1974   \n",
       "2  84348301  M  11.42  20.38   77.58   386.1  0.14250  0.28390  0.2414   \n",
       "3  84358402  M  20.29  14.34  135.10  1297.0  0.10030  0.13280  0.1980   \n",
       "4    843786  M  12.45  15.70   82.57   477.1  0.12780  0.17000  0.1578   \n",
       "\n",
       "    0.1471  ...  25.38  17.33   184.6    2019  0.1622  0.6656  0.7119  0.2654  \\\n",
       "0  0.07017  ...  24.99  23.41  158.80  1956.0  0.1238  0.1866  0.2416  0.1860   \n",
       "1  0.12790  ...  23.57  25.53  152.50  1709.0  0.1444  0.4245  0.4504  0.2430   \n",
       "2  0.10520  ...  14.91  26.50   98.87   567.7  0.2098  0.8663  0.6869  0.2575   \n",
       "3  0.10430  ...  22.54  16.67  152.20  1575.0  0.1374  0.2050  0.4000  0.1625   \n",
       "4  0.08089  ...  15.47  23.75  103.40   741.6  0.1791  0.5249  0.5355  0.1741   \n",
       "\n",
       "   0.4601   0.1189  \n",
       "0  0.2750  0.08902  \n",
       "1  0.3613  0.08758  \n",
       "2  0.6638  0.17300  \n",
       "3  0.2364  0.07678  \n",
       "4  0.3985  0.12440  \n",
       "\n",
       "[5 rows x 32 columns]"
      ]
     },
     "metadata": {},
     "output_type": "display_data"
    }
   ],
   "source": [
    "# === Load data ===\n",
    "df = pd.read_csv(DATASET_PATH)\n",
    "print('Shape:', df.shape)\n",
    "display(df.head())"
   ]
  },
  {
   "cell_type": "code",
   "execution_count": 18,
   "metadata": {},
   "outputs": [
    {
     "name": "stdout",
     "output_type": "stream",
     "text": [
      "TARGET_MULTICLASS = M\n",
      "TARGET_BINARY dibuat otomatis: 'binary_auto' (positif = kelas mayoritas: B)\n"
     ]
    }
   ],
   "source": [
    "# === Deteksi target multiclass & buat target biner jika perlu ===\n",
    "def guess_multiclass_target(df):\n",
    "    candidates = ['Type', 'type', 'Class', 'class', 'target']\n",
    "    for c in candidates:\n",
    "        if c in df.columns:\n",
    "            return c\n",
    "    # fallback: kolom kategorik terakhir\n",
    "    cat_cols = df.select_dtypes(exclude=np.number).columns.tolist()\n",
    "    if cat_cols:\n",
    "        return cat_cols[-1]\n",
    "    # jika tidak ada, pakai kolom terakhir (mungkin numerik label-encoded)\n",
    "    return df.columns[-1]\n",
    "\n",
    "if TARGET_MULTICLASS is None:\n",
    "    TARGET_MULTICLASS = guess_multiclass_target(df)\n",
    "print('TARGET_MULTICLASS =', TARGET_MULTICLASS)\n",
    "\n",
    "# Jika belum ada target biner, buat biner: mayoritas vs lainnya\n",
    "if TARGET_BINARY is None or TARGET_BINARY not in df.columns:\n",
    "    vc = df[TARGET_MULTICLASS].value_counts()\n",
    "    major_class = vc.idxmax()\n",
    "    df['binary_auto'] = (df[TARGET_MULTICLASS] == major_class).astype(int)\n",
    "    TARGET_BINARY = 'binary_auto'\n",
    "    print(f\"TARGET_BINARY dibuat otomatis: '{TARGET_BINARY}' (positif = kelas mayoritas: {major_class})\")\n",
    "else:\n",
    "    print('TARGET_BINARY =', TARGET_BINARY)"
   ]
  },
  {
   "cell_type": "code",
   "execution_count": 19,
   "metadata": {},
   "outputs": [],
   "source": [
    "# === Utility preprocessor (dipertahankan) ===\n",
    "def build_preprocessor(X_df):\n",
    "    num_cols = X_df.select_dtypes(include=np.number).columns.tolist()\n",
    "    cat_cols = X_df.select_dtypes(exclude=np.number).columns.tolist()\n",
    "    num_pipe = Pipeline([\n",
    "        ('imp', SimpleImputer(strategy='median')),\n",
    "        ('scale', StandardScaler())\n",
    "    ])\n",
    "    cat_pipe = Pipeline([\n",
    "        ('imp', SimpleImputer(strategy='most_frequent')),\n",
    "        ('ohe', OneHotEncoder(handle_unknown='ignore'))\n",
    "    ])\n",
    "    pre = ColumnTransformer([\n",
    "        ('num', num_pipe, num_cols),\n",
    "        ('cat', cat_pipe, cat_cols)\n",
    "    ])\n",
    "    return pre"
   ]
  },
  {
   "cell_type": "markdown",
   "metadata": {},
   "source": [
    "## Grafik Distribusi Kelas"
   ]
  },
  {
   "cell_type": "code",
   "execution_count": 20,
   "metadata": {},
   "outputs": [
    {
     "name": "stdout",
     "output_type": "stream",
     "text": [
      "Distribusi kelas (multiclass):\n"
     ]
    },
    {
     "data": {
      "text/plain": [
       "M\n",
       "B    357\n",
       "M    211\n",
       "Name: count, dtype: int64"
      ]
     },
     "metadata": {},
     "output_type": "display_data"
    },
    {
     "data": {
      "image/png": "[encoded data removed]",
      "text/plain": [
       "<Figure size 640x480 with 1 Axes>"
      ]
     },
     "metadata": {},
     "output_type": "display_data"
    },
    {
     "name": "stdout",
     "output_type": "stream",
     "text": [
      "Distribusi kelas (binary):\n"
     ]
    },
    {
     "data": {
      "text/plain": [
       "binary_auto\n",
       "0    211\n",
       "1    357\n",
       "Name: count, dtype: int64"
      ]
     },
     "metadata": {},
     "output_type": "display_data"
    },
    {
     "data": {
      "image/png": "[encoded data removed]",
      "text/plain": [
       "<Figure size 640x480 with 1 Axes>"
      ]
     },
     "metadata": {},
     "output_type": "display_data"
    }
   ],
   "source": [
    "# Distribusi Multiclass\n",
    "vc_mc = df[TARGET_MULTICLASS].value_counts().sort_index()\n",
    "print('Distribusi kelas (multiclass):')\n",
    "display(vc_mc)\n",
    "plt.figure()\n",
    "vc_mc.plot(kind='bar')\n",
    "plt.title('Distribusi Kelas - Multiclass')\n",
    "plt.xlabel('Kelas')\n",
    "plt.ylabel('Jumlah')\n",
    "plt.tight_layout()\n",
    "plt.show()\n",
    "\n",
    "# Distribusi Binary\n",
    "vc_bin = df[TARGET_BINARY].value_counts().sort_index()\n",
    "print('Distribusi kelas (binary):')\n",
    "display(vc_bin)\n",
    "plt.figure()\n",
    "vc_bin.plot(kind='bar')\n",
    "plt.title('Distribusi Kelas - Binary')\n",
    "plt.xlabel('Label (0/1)')\n",
    "plt.ylabel('Jumlah')\n",
    "plt.tight_layout()\n",
    "plt.show()"
   ]
  },
  {
   "cell_type": "markdown",
   "metadata": {},
   "source": [
    "## A. Binary Logistic Regression (dengan threshold terbaik F1)"
   ]
  },
  {
   "cell_type": "code",
   "execution_count": 21,
   "metadata": {},
   "outputs": [
    {
     "name": "stdout",
     "output_type": "stream",
     "text": [
      "Mencari threshold F1 terbaik menggunakan Cross-Validation pada data latih...\n",
      "Best threshold for F1 ditemukan pada data latih: 0.3268 (F1 CV=0.983)\n",
      "\\nClassification Report (Binary @best F1 on Test Set):\n",
      "              precision    recall  f1-score   support\n",
      "\n",
      "           0      0.977     1.000     0.988        42\n",
      "           1      1.000     0.986     0.993        72\n",
      "\n",
      "    accuracy                          0.991       114\n",
      "   macro avg      0.988     0.993     0.991       114\n",
      "weighted avg      0.991     0.991     0.991       114\n",
      "\n"
     ]
    },
    {
     "data": {
      "image/png": "[encoded data removed]",
      "text/plain": [
       "<Figure size 640x480 with 2 Axes>"
      ]
     },
     "metadata": {},
     "output_type": "display_data"
    }
   ],
   "source": [
    "# ==============================================================================\n",
    "# PERBAIKAN UNTUK CELL 10\n",
    "# ==============================================================================\n",
    "from sklearn.metrics import f1_score\n",
    "from sklearn.model_selection import StratifiedKFold\n",
    "\n",
    "cols_b = [c for c in df.columns if c not in ID_COLUMNS + [TARGET_BINARY, TARGET_MULTICLASS]]\n",
    "Xb = df[cols_b].copy()\n",
    "yb = df[TARGET_BINARY].copy()\n",
    "\n",
    "Xb_train, Xb_test, yb_train, yb_test = train_test_split(\n",
    "    Xb, yb, test_size=TEST_SIZE, stratify=yb, random_state=RANDOM_STATE\n",
    ")\n",
    "\n",
    "pre_b = build_preprocessor(Xb_train)\n",
    "logreg_bin_pipeline = Pipeline([\n",
    "    ('pre', pre_b),\n",
    "    ('clf', LogisticRegression(solver='lbfgs', max_iter=1000, class_weight='balanced', random_state=RANDOM_STATE))\n",
    "])\n",
    "\n",
    "# PERBAIKAN: Cari threshold terbaik menggunakan cross-validation PADA DATA LATIH\n",
    "print(\"Mencari threshold F1 terbaik menggunakan Cross-Validation pada data latih...\")\n",
    "skf = StratifiedKFold(n_splits=N_SPLITS, shuffle=True, random_state=RANDOM_STATE)\n",
    "thresholds = np.linspace(0.01, 0.99, 100)\n",
    "f1_scores = []\n",
    "\n",
    "# Iterasi untuk setiap threshold\n",
    "for threshold in thresholds:\n",
    "    current_f1s = []\n",
    "    # Iterasi untuk setiap fold CV\n",
    "    for train_idx, val_idx in skf.split(Xb_train, yb_train):\n",
    "        X_train_fold, X_val_fold = Xb_train.iloc[train_idx], Xb_train.iloc[val_idx]\n",
    "        y_train_fold, y_val_fold = yb_train.iloc[train_idx], yb_train.iloc[val_idx]\n",
    "        \n",
    "        logreg_bin_pipeline.fit(X_train_fold, y_train_fold)\n",
    "        y_val_proba = logreg_bin_pipeline.predict_proba(X_val_fold)[:, 1]\n",
    "        y_val_pred = (y_val_proba >= threshold).astype(int)\n",
    "        current_f1s.append(f1_score(y_val_fold, y_val_pred))\n",
    "    \n",
    "    f1_scores.append(np.mean(current_f1s))\n",
    "\n",
    "# Dapatkan threshold terbaik\n",
    "best_thr_idx = np.argmax(f1_scores)\n",
    "best_thr = thresholds[best_thr_idx]\n",
    "print(f\"Best threshold for F1 ditemukan pada data latih: {best_thr:.4f} (F1 CV={f1_scores[best_thr_idx]:.3f})\")\n",
    "\n",
    "# Latih model pada SELURUH data latih\n",
    "logreg_bin_pipeline.fit(Xb_train, yb_train)\n",
    "yb_proba_test = logreg_bin_pipeline.predict_proba(Xb_test)[:, 1]\n",
    "yb_pred_best = (yb_proba_test >= best_thr).astype(int)\n",
    "\n",
    "# Evaluasi pada TEST SET\n",
    "print('\\\\nClassification Report (Binary @best F1 on Test Set):')\n",
    "print(classification_report(yb_test, yb_pred_best, digits=3, zero_division=0))\n",
    "\n",
    "# Confusion Matrix (Binary, normalized)\n",
    "# PERBAIKAN: Tidak perlu plt.figure() terpisah\n",
    "cm_b = confusion_matrix(yb_test, yb_pred_best, normalize='true')\n",
    "disp_b = ConfusionMatrixDisplay(cm_b)\n",
    "disp_b.plot(values_format='.2f')\n",
    "plt.title('Confusion Matrix — Binary (normalized)')\n",
    "plt.tight_layout()\n",
    "plt.show()\n",
    "\n",
    "# Simpan metrik ringkas untuk komparasi\n",
    "acc_b = (yb_pred_best == yb_test).mean()\n",
    "f1m_b = f1_score(yb_test, yb_pred_best, average='macro')"
   ]
  },
  {
   "cell_type": "markdown",
   "metadata": {},
   "source": [
    "## B. Multiclass Softmax (Multinomial Logistic Regression)"
   ]
  },
  {
   "cell_type": "code",
   "execution_count": 22,
   "metadata": {},
   "outputs": [
    {
     "name": "stdout",
     "output_type": "stream",
     "text": [
      "Classification Report (Multiclass with class_weight):\n",
      "              precision    recall  f1-score   support\n",
      "\n",
      "           B      0.986     0.986     0.986        72\n",
      "           M      0.976     0.976     0.976        42\n",
      "\n",
      "    accuracy                          0.982       114\n",
      "   macro avg      0.981     0.981     0.981       114\n",
      "weighted avg      0.982     0.982     0.982       114\n",
      "\n"
     ]
    },
    {
     "data": {
      "image/png": "[encoded data removed]",
      "text/plain": [
       "<Figure size 640x480 with 2 Axes>"
      ]
     },
     "metadata": {},
     "output_type": "display_data"
    }
   ],
   "source": [
    "# ==============================================================================\n",
    "# PERBAIKAN UNTUK CELL 12\n",
    "# ==============================================================================\n",
    "from sklearn.metrics import f1_score\n",
    "\n",
    "cols_m = [c for c in df.columns if c not in ID_COLUMNS + [TARGET_BINARY, TARGET_MULTICLASS]]\n",
    "Xm = df[cols_m].copy()\n",
    "ym = df[TARGET_MULTICLASS].copy()\n",
    "\n",
    "Xm_train, Xm_test, ym_train, ym_test = train_test_split(\n",
    "    Xm, ym, test_size=TEST_SIZE, stratify=ym, random_state=RANDOM_STATE\n",
    ")\n",
    "pre_m = build_preprocessor(Xm_train)\n",
    "softmax_clf = Pipeline([\n",
    "    ('pre', pre_m),\n",
    "    ('clf', LogisticRegression(\n",
    "        multi_class='multinomial', \n",
    "        solver='lbfgs', \n",
    "        max_iter=1000, \n",
    "        random_state=RANDOM_STATE,\n",
    "        class_weight='balanced'  # PERBAIKAN: Tambahkan ini untuk menangani imbalance\n",
    "    ))\n",
    "])\n",
    "\n",
    "softmax_clf.fit(Xm_train, ym_train)\n",
    "ym_pred = softmax_clf.predict(Xm_test)\n",
    "print('Classification Report (Multiclass with class_weight):')\n",
    "print(classification_report(ym_test, ym_pred, digits=3, zero_division=0))\n",
    "\n",
    "# Confusion Matrix (Multiclass, normalized)\n",
    "# PERBAIKAN: Tidak perlu plt.figure() terpisah\n",
    "cm_m = confusion_matrix(ym_test, ym_pred, normalize='true')\n",
    "disp_m = ConfusionMatrixDisplay(cm_m)\n",
    "disp_m.plot(values_format='.2f')\n",
    "plt.title('Confusion Matrix — Multiclass (normalized)')\n",
    "plt.tight_layout()\n",
    "plt.show()\n",
    "\n",
    "# Simpan metrik ringkas untuk komparasi\n",
    "acc_m = (ym_pred == ym_test).mean()\n",
    "f1m_m = f1_score(ym_test, ym_pred, average='macro')"
   ]
  },
  {
   "cell_type": "markdown",
   "metadata": {},
   "source": [
    "## Komparasi Performa (Accuracy & F1 Macro)"
   ]
  },
  {
   "cell_type": "code",
   "execution_count": 23,
   "metadata": {},
   "outputs": [
    {
     "data": {
      "text/html": [
       "<div>\n",
       "<style scoped>\n",
       "    .dataframe tbody tr th:only-of-type {\n",
       "        vertical-align: middle;\n",
       "    }\n",
       "\n",
       "    .dataframe tbody tr th {\n",
       "        vertical-align: top;\n",
       "    }\n",
       "\n",
       "    .dataframe thead th {\n",
       "        text-align: right;\n",
       "    }\n",
       "</style>\n",
       "<table border=\"1\" class=\"dataframe\">\n",
       "  <thead>\n",
       "    <tr style=\"text-align: right;\">\n",
       "      <th></th>\n",
       "      <th>Model</th>\n",
       "      <th>Accuracy</th>\n",
       "      <th>F1_macro</th>\n",
       "    </tr>\n",
       "  </thead>\n",
       "  <tbody>\n",
       "    <tr>\n",
       "      <th>0</th>\n",
       "      <td>Binary Logistic (best-F1 thr)</td>\n",
       "      <td>0.991228</td>\n",
       "      <td>0.990621</td>\n",
       "    </tr>\n",
       "    <tr>\n",
       "      <th>1</th>\n",
       "      <td>Softmax Multiclass</td>\n",
       "      <td>0.982456</td>\n",
       "      <td>0.981151</td>\n",
       "    </tr>\n",
       "  </tbody>\n",
       "</table>\n",
       "</div>"
      ],
      "text/plain": [
       "                           Model  Accuracy  F1_macro\n",
       "0  Binary Logistic (best-F1 thr)  0.991228  0.990621\n",
       "1             Softmax Multiclass  0.982456  0.981151"
      ]
     },
     "metadata": {},
     "output_type": "display_data"
    },
    {
     "data": {
      "image/png": "[encoded data removed]",
      "text/plain": [
       "<Figure size 640x480 with 1 Axes>"
      ]
     },
     "metadata": {},
     "output_type": "display_data"
    }
   ],
   "source": [
    "rows, accs, f1ms = [], [], []\n",
    "if 'acc_b' in globals():\n",
    "    rows.append('Binary Logistic (best-F1 thr)'); accs.append(acc_b); f1ms.append(f1m_b)\n",
    "if 'acc_m' in globals():\n",
    "    rows.append('Softmax Multiclass'); accs.append(acc_m); f1ms.append(f1m_m)\n",
    "perf_df = pd.DataFrame({'Model': rows, 'Accuracy': accs, 'F1_macro': f1ms})\n",
    "display(perf_df)\n",
    "\n",
    "# Grafik perbandingan accuracy\n",
    "plt.figure()\n",
    "plt.bar(perf_df['Model'], perf_df['Accuracy'])\n",
    "plt.title('Perbandingan Accuracy')\n",
    "plt.xlabel('Model')\n",
    "plt.ylabel('Accuracy')\n",
    "plt.xticks(rotation=15)\n",
    "plt.tight_layout()\n",
    "plt.show()"
   ]
  },
  {
   "cell_type": "code",
   "execution_count": null,
   "id": "c68b7cca",
   "metadata": {},
   "outputs": [],
   "source": []
  }
 ],
 "metadata": {
  "kernelspec": {
   "display_name": ".venv (3.10.12)",
   "language": "python",
   "name": "python3"
  },
  "language_info": {
   "codemirror_mode": {
    "name": "ipython",
    "version": 3
   },
   "file_extension": ".py",
   "mimetype": "text/x-python",
   "name": "python",
   "nbconvert_exporter": "python",
   "pygments_lexer": "ipython3",
   "version": "3.10.12"
  }
 },
 "nbformat": 4,
 "nbformat_minor": 5
}
