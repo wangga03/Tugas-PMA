{
 "cells": [
  {
   "cell_type": "code",
   "execution_count": 31,
   "id": "99a16335",
   "metadata": {},
   "outputs": [],
   "source": [
    "# Jalankan dulu cell ini\n",
    "%matplotlib inline\n",
    "\n",
    "import os, time, math\n",
    "import numpy as np\n",
    "import pandas as pd\n",
    "import matplotlib.pyplot as plt\n",
    "\n",
    "# Path ke CSV kamu (ganti kalau perlu)\n",
    "CSV_PATH = \"/home/wgg/Downloads/student_exam_scores.csv\"\n",
    "assert os.path.exists(CSV_PATH), f\"CSV tidak ditemukan: {CSV_PATH}\"\n"
   ]
  },
  {
   "cell_type": "code",
   "execution_count": 32,
   "id": "ce8370d3",
   "metadata": {},
   "outputs": [
    {
     "data": {
      "text/html": [
       "<div>\n",
       "<style scoped>\n",
       "    .dataframe tbody tr th:only-of-type {\n",
       "        vertical-align: middle;\n",
       "    }\n",
       "\n",
       "    .dataframe tbody tr th {\n",
       "        vertical-align: top;\n",
       "    }\n",
       "\n",
       "    .dataframe thead th {\n",
       "        text-align: right;\n",
       "    }\n",
       "</style>\n",
       "<table border=\"1\" class=\"dataframe\">\n",
       "  <thead>\n",
       "    <tr style=\"text-align: right;\">\n",
       "      <th></th>\n",
       "      <th>student_id</th>\n",
       "      <th>hours_studied</th>\n",
       "      <th>sleep_hours</th>\n",
       "      <th>attendance_percent</th>\n",
       "      <th>previous_scores</th>\n",
       "      <th>exam_score</th>\n",
       "    </tr>\n",
       "  </thead>\n",
       "  <tbody>\n",
       "    <tr>\n",
       "      <th>0</th>\n",
       "      <td>S001</td>\n",
       "      <td>8.0</td>\n",
       "      <td>8.8</td>\n",
       "      <td>72.1</td>\n",
       "      <td>45</td>\n",
       "      <td>30.2</td>\n",
       "    </tr>\n",
       "    <tr>\n",
       "      <th>1</th>\n",
       "      <td>S002</td>\n",
       "      <td>1.3</td>\n",
       "      <td>8.6</td>\n",
       "      <td>60.7</td>\n",
       "      <td>55</td>\n",
       "      <td>25.0</td>\n",
       "    </tr>\n",
       "    <tr>\n",
       "      <th>2</th>\n",
       "      <td>S003</td>\n",
       "      <td>4.0</td>\n",
       "      <td>8.2</td>\n",
       "      <td>73.7</td>\n",
       "      <td>86</td>\n",
       "      <td>35.8</td>\n",
       "    </tr>\n",
       "    <tr>\n",
       "      <th>3</th>\n",
       "      <td>S004</td>\n",
       "      <td>3.5</td>\n",
       "      <td>4.8</td>\n",
       "      <td>95.1</td>\n",
       "      <td>66</td>\n",
       "      <td>34.0</td>\n",
       "    </tr>\n",
       "    <tr>\n",
       "      <th>4</th>\n",
       "      <td>S005</td>\n",
       "      <td>9.1</td>\n",
       "      <td>6.4</td>\n",
       "      <td>89.8</td>\n",
       "      <td>71</td>\n",
       "      <td>40.3</td>\n",
       "    </tr>\n",
       "    <tr>\n",
       "      <th>5</th>\n",
       "      <td>S006</td>\n",
       "      <td>8.4</td>\n",
       "      <td>5.1</td>\n",
       "      <td>58.5</td>\n",
       "      <td>75</td>\n",
       "      <td>35.7</td>\n",
       "    </tr>\n",
       "    <tr>\n",
       "      <th>6</th>\n",
       "      <td>S007</td>\n",
       "      <td>10.8</td>\n",
       "      <td>6.0</td>\n",
       "      <td>54.2</td>\n",
       "      <td>88</td>\n",
       "      <td>37.9</td>\n",
       "    </tr>\n",
       "    <tr>\n",
       "      <th>7</th>\n",
       "      <td>S008</td>\n",
       "      <td>2.0</td>\n",
       "      <td>4.3</td>\n",
       "      <td>75.8</td>\n",
       "      <td>55</td>\n",
       "      <td>18.3</td>\n",
       "    </tr>\n",
       "    <tr>\n",
       "      <th>8</th>\n",
       "      <td>S009</td>\n",
       "      <td>5.6</td>\n",
       "      <td>5.9</td>\n",
       "      <td>81.6</td>\n",
       "      <td>84</td>\n",
       "      <td>34.7</td>\n",
       "    </tr>\n",
       "    <tr>\n",
       "      <th>9</th>\n",
       "      <td>S010</td>\n",
       "      <td>1.3</td>\n",
       "      <td>8.9</td>\n",
       "      <td>66.8</td>\n",
       "      <td>70</td>\n",
       "      <td>24.7</td>\n",
       "    </tr>\n",
       "  </tbody>\n",
       "</table>\n",
       "</div>"
      ],
      "text/plain": [
       "  student_id  hours_studied  sleep_hours  attendance_percent  previous_scores  \\\n",
       "0       S001            8.0          8.8                72.1               45   \n",
       "1       S002            1.3          8.6                60.7               55   \n",
       "2       S003            4.0          8.2                73.7               86   \n",
       "3       S004            3.5          4.8                95.1               66   \n",
       "4       S005            9.1          6.4                89.8               71   \n",
       "5       S006            8.4          5.1                58.5               75   \n",
       "6       S007           10.8          6.0                54.2               88   \n",
       "7       S008            2.0          4.3                75.8               55   \n",
       "8       S009            5.6          5.9                81.6               84   \n",
       "9       S010            1.3          8.9                66.8               70   \n",
       "\n",
       "   exam_score  \n",
       "0        30.2  \n",
       "1        25.0  \n",
       "2        35.8  \n",
       "3        34.0  \n",
       "4        40.3  \n",
       "5        35.7  \n",
       "6        37.9  \n",
       "7        18.3  \n",
       "8        34.7  \n",
       "9        24.7  "
      ]
     },
     "execution_count": 32,
     "metadata": {},
     "output_type": "execute_result"
    }
   ],
   "source": [
    "# Load dataset\n",
    "df = pd.read_csv(CSV_PATH)\n",
    "df.head(10)\n"
   ]
  },
  {
   "cell_type": "code",
   "execution_count": 34,
   "id": "b18a36f4",
   "metadata": {},
   "outputs": [
    {
     "name": "stdout",
     "output_type": "stream",
     "text": [
      "Features: ['hours_studied', 'sleep_hours', 'attendance_percent', 'previous_scores']\n",
      "Target  : exam_score\n"
     ]
    }
   ],
   "source": [
    "# Tentukan target (y) otomatis; kalau tidak ada yang cocok, pakai kolom terakhir\n",
    "cols = list(df.columns)\n",
    "target_candidates = [c for c in cols if c.lower() in [\"score\",\"final_score\",\"exam_score\",\"final\",\"target\",\"y\"]]\n",
    "y_col = target_candidates[0] if target_candidates else cols[-1]\n",
    "X_cols = [c for c in cols if c != y_col]\n",
    "\n",
    "# Ambil fitur numerik & target numerik\n",
    "X = df[X_cols].select_dtypes(include=[np.number]).copy()\n",
    "y = pd.to_numeric(df[y_col], errors=\"coerce\")\n",
    "\n",
    "# Drop baris yang ada NaN\n",
    "valid = ~(X.isna().any(axis=1) | y.isna())\n",
    "X = X.loc[valid].reset_index(drop=True)\n",
    "y = y.loc[valid].reset_index(drop=True)\n",
    "\n",
    "print(\"Features:\", list(X.columns))\n",
    "print(\"Target  :\", y_col)\n"
   ]
  },
  {
   "cell_type": "code",
   "execution_count": 35,
   "id": "85df3db8",
   "metadata": {},
   "outputs": [
    {
     "data": {
      "text/html": [
       "<div>\n",
       "<style scoped>\n",
       "    .dataframe tbody tr th:only-of-type {\n",
       "        vertical-align: middle;\n",
       "    }\n",
       "\n",
       "    .dataframe tbody tr th {\n",
       "        vertical-align: top;\n",
       "    }\n",
       "\n",
       "    .dataframe thead th {\n",
       "        text-align: right;\n",
       "    }\n",
       "</style>\n",
       "<table border=\"1\" class=\"dataframe\">\n",
       "  <thead>\n",
       "    <tr style=\"text-align: right;\">\n",
       "      <th></th>\n",
       "      <th>mean</th>\n",
       "      <th>median</th>\n",
       "      <th>std</th>\n",
       "    </tr>\n",
       "  </thead>\n",
       "  <tbody>\n",
       "    <tr>\n",
       "      <th>hours_studied</th>\n",
       "      <td>6.3255</td>\n",
       "      <td>6.15</td>\n",
       "      <td>3.227317</td>\n",
       "    </tr>\n",
       "    <tr>\n",
       "      <th>sleep_hours</th>\n",
       "      <td>6.6220</td>\n",
       "      <td>6.70</td>\n",
       "      <td>1.497138</td>\n",
       "    </tr>\n",
       "    <tr>\n",
       "      <th>attendance_percent</th>\n",
       "      <td>74.8300</td>\n",
       "      <td>75.25</td>\n",
       "      <td>14.249905</td>\n",
       "    </tr>\n",
       "    <tr>\n",
       "      <th>previous_scores</th>\n",
       "      <td>66.8000</td>\n",
       "      <td>67.50</td>\n",
       "      <td>15.663869</td>\n",
       "    </tr>\n",
       "  </tbody>\n",
       "</table>\n",
       "</div>"
      ],
      "text/plain": [
       "                       mean  median        std\n",
       "hours_studied        6.3255    6.15   3.227317\n",
       "sleep_hours          6.6220    6.70   1.497138\n",
       "attendance_percent  74.8300   75.25  14.249905\n",
       "previous_scores     66.8000   67.50  15.663869"
      ]
     },
     "metadata": {},
     "output_type": "display_data"
    },
    {
     "data": {
      "text/html": [
       "<div>\n",
       "<style scoped>\n",
       "    .dataframe tbody tr th:only-of-type {\n",
       "        vertical-align: middle;\n",
       "    }\n",
       "\n",
       "    .dataframe tbody tr th {\n",
       "        vertical-align: top;\n",
       "    }\n",
       "\n",
       "    .dataframe thead th {\n",
       "        text-align: right;\n",
       "    }\n",
       "</style>\n",
       "<table border=\"1\" class=\"dataframe\">\n",
       "  <thead>\n",
       "    <tr style=\"text-align: right;\">\n",
       "      <th></th>\n",
       "      <th>mean</th>\n",
       "      <th>median</th>\n",
       "      <th>std</th>\n",
       "    </tr>\n",
       "  </thead>\n",
       "  <tbody>\n",
       "    <tr>\n",
       "      <th>exam_score</th>\n",
       "      <td>33.955</td>\n",
       "      <td>34.05</td>\n",
       "      <td>6.789548</td>\n",
       "    </tr>\n",
       "  </tbody>\n",
       "</table>\n",
       "</div>"
      ],
      "text/plain": [
       "              mean  median       std\n",
       "exam_score  33.955   34.05  6.789548"
      ]
     },
     "metadata": {},
     "output_type": "display_data"
    }
   ],
   "source": [
    "# Descriptive stats\n",
    "desc_X = X.describe().T[['mean','50%','std']].rename(columns={'50%':'median'})\n",
    "desc_y = pd.DataFrame({'mean':[y.mean()],'median':[y.median()],'std':[y.std(ddof=1)]}, index=[y_col])\n",
    "display(desc_X)\n",
    "display(desc_y)\n"
   ]
  },
  {
   "cell_type": "code",
   "execution_count": 36,
   "id": "9ece55bb",
   "metadata": {},
   "outputs": [],
   "source": [
    "# Train/Test split (80/20, seed tetap)\n",
    "rng = np.random.default_rng(42)\n",
    "idx = np.arange(len(X)); rng.shuffle(idx)\n",
    "split = int(0.8*len(X))\n",
    "train_idx, test_idx = idx[:split], idx[split:]\n",
    "\n",
    "X_train, X_test = X.iloc[train_idx].copy(), X.iloc[test_idx].copy()\n",
    "y_train, y_test = y.iloc[train_idx].copy(), y.iloc[test_idx].copy()\n",
    "\n",
    "# Standardisasi (fit di train, apply ke test)\n",
    "X_mean = X_train.mean()\n",
    "X_std  = X_train.std(ddof=0).replace(0, 1.0)\n",
    "\n",
    "X_train_std = (X_train - X_mean) / X_std\n",
    "X_test_std  = (X_test  - X_mean) / X_std\n",
    "\n",
    "def add_bias(A: np.ndarray) -> np.ndarray:\n",
    "    return np.c_[np.ones((A.shape[0], 1)), A]\n",
    "\n",
    "Xtr = add_bias(X_train_std.values)\n",
    "Xte = add_bias(X_test_std.values)\n",
    "ytr = y_train.values.reshape(-1, 1)\n",
    "yte = y_test.values.reshape(-1, 1)\n"
   ]
  },
  {
   "cell_type": "code",
   "execution_count": 37,
   "id": "1c1e4c29",
   "metadata": {},
   "outputs": [],
   "source": [
    "def normal_equation(X, y):\n",
    "    Xb = add_bias_column(X)            # m x (n+1)\n",
    "    Xt = mat_transpose(Xb)             # (n+1) x m\n",
    "    XtX = mat_mul(Xt, Xb)              # (n+1) x (n+1)\n",
    "    Xty = mat_vec_mul(Xt, y)           # (n+1)\n",
    "    XtX_inv = mat_inverse_gauss_jordan(XtX)\n",
    "    theta = mat_vec_mul(XtX_inv, Xty)  # (n+1)\n",
    "    return theta  # list panjang n+1\n"
   ]
  },
  {
   "cell_type": "code",
   "execution_count": 38,
   "id": "e4dec649",
   "metadata": {},
   "outputs": [],
   "source": [
    "def bgd(X, y, alpha=0.1, epochs=300):\n",
    "    Xb = add_bias_column(X)      # m x (n+1)\n",
    "    m, n1 = len(Xb), len(Xb[0])\n",
    "    theta = [0.0]*n1\n",
    "    history = []\n",
    "\n",
    "    for _ in range(epochs):\n",
    "        # grad = (2/m) * X^T (X theta - y)\n",
    "        preds = mat_vec_mul(Xb, theta)\n",
    "        err = [pi - yi for pi, yi in zip(preds, y)]\n",
    "        # X^T * err\n",
    "        Xt = mat_transpose(Xb)\n",
    "        grad = mat_vec_mul(Xt, err)\n",
    "        grad = [ (2.0/m)*g for g in grad ]\n",
    "        # update\n",
    "        theta = [ti - alpha*gi for ti, gi in zip(theta, grad)]\n",
    "        history.append(mse(Xb, y, theta))\n",
    "    return theta, history\n"
   ]
  },
  {
   "cell_type": "code",
   "execution_count": 39,
   "id": "ba9e78a0",
   "metadata": {},
   "outputs": [],
   "source": [
    "def sgd(X, y, epochs=50, t0=5.0, t1=50.0, shuffle=True):\n",
    "    import random\n",
    "    Xb = add_bias_column(X)\n",
    "    m, n1 = len(Xb), len(Xb[0])\n",
    "    theta = [0.0]*n1\n",
    "    hist = []\n",
    "    t = 0  # counter untuk schedule\n",
    "\n",
    "    def lr(step):\n",
    "        return 1.0 / (t0 + t1*step)\n",
    "\n",
    "    indices = list(range(m))\n",
    "    for _ in range(epochs):\n",
    "        if shuffle:\n",
    "            random.shuffle(indices)\n",
    "        for i in indices:\n",
    "            xi = Xb[i]        # (n+1)\n",
    "            yi = y[i]\n",
    "            # grad_i = 2 * x_i^T (x_i theta - y_i)\n",
    "            pred_i = sum(xij*thj for xij, thj in zip(xi, theta))\n",
    "            err_i = pred_i - yi\n",
    "            grad_i = [ 2.0 * xij * err_i for xij in xi ]\n",
    "            t += 1\n",
    "            eta = lr(t)\n",
    "            theta = [ti - eta*gi for ti, gi in zip(theta, grad_i)]\n",
    "        hist.append(mse(Xb, y, theta))\n",
    "    return theta, hist\n"
   ]
  },
  {
   "cell_type": "code",
   "execution_count": 40,
   "id": "e5f73068",
   "metadata": {},
   "outputs": [],
   "source": [
    "def mse_cost(Xm, ym, theta):\n",
    "    m = len(ym)\n",
    "    err = Xm @ theta - ym\n",
    "    return float((err.T @ err) / m)\n",
    "\n",
    "def grad(Xm, ym, theta):\n",
    "    m = len(ym)\n",
    "    return (2/m) * (Xm.T @ (Xm @ theta - ym))\n"
   ]
  },
  {
   "cell_type": "code",
   "execution_count": 41,
   "id": "4a2dc894",
   "metadata": {},
   "outputs": [
    {
     "name": "stdout",
     "output_type": "stream",
     "text": [
      "NE - waktu(s): 0.0818482849999782  MSE(test): 8.410803931422993\n"
     ]
    },
    {
     "name": "stderr",
     "output_type": "stream",
     "text": [
      "/tmp/ipykernel_5511/3103864548.py:4: DeprecationWarning: Conversion of an array with ndim > 0 to a scalar is deprecated, and will error in future. Ensure you extract a single element from your array before performing this operation. (Deprecated NumPy 1.25.)\n",
      "  return float((err.T @ err) / m)\n"
     ]
    }
   ],
   "source": [
    "t0 = time.perf_counter()\n",
    "theta_ne = np.linalg.pinv(Xtr.T @ Xtr) @ Xtr.T @ ytr\n",
    "t_ne = time.perf_counter() - t0\n",
    "mse_ne = mse_cost(Xte, yte, theta_ne)\n",
    "\n",
    "print(\"NE - waktu(s):\", t_ne, \" MSE(test):\", mse_ne)\n"
   ]
  },
  {
   "cell_type": "code",
   "execution_count": 42,
   "id": "99f996fa",
   "metadata": {},
   "outputs": [
    {
     "name": "stdout",
     "output_type": "stream",
     "text": [
      "BGD - alpha: 0.2  waktu(s): 0.07664028599992889  MSE(test): 8.410803931422997\n"
     ]
    },
    {
     "name": "stderr",
     "output_type": "stream",
     "text": [
      "/tmp/ipykernel_5511/3103864548.py:4: DeprecationWarning: Conversion of an array with ndim > 0 to a scalar is deprecated, and will error in future. Ensure you extract a single element from your array before performing this operation. (Deprecated NumPy 1.25.)\n",
      "  return float((err.T @ err) / m)\n"
     ]
    }
   ],
   "source": [
    "def batch_gradient_descent(Xm, ym, alpha=0.1, n_epochs=300):\n",
    "    theta = np.zeros((Xm.shape[1], 1))\n",
    "    history = []\n",
    "    for _ in range(n_epochs):\n",
    "        theta = theta - alpha * grad(Xm, ym, theta)\n",
    "        history.append(mse_cost(Xm, ym, theta))\n",
    "    return theta, history\n",
    "\n",
    "alphas = [0.001, 0.01, 0.05, 0.1, 0.2]\n",
    "best_alpha, best_hist, best_theta_bgd = None, None, None\n",
    "best_final_cost = math.inf\n",
    "\n",
    "t0 = time.perf_counter()\n",
    "for a in alphas:\n",
    "    th, hist = batch_gradient_descent(Xtr, ytr, alpha=a, n_epochs=300)\n",
    "    if hist[-1] < best_final_cost:\n",
    "        best_final_cost = hist[-1]\n",
    "        best_alpha, best_hist, best_theta_bgd = a, hist, th\n",
    "t_bgd = time.perf_counter() - t0\n",
    "mse_bgd = mse_cost(Xte, yte, best_theta_bgd)\n",
    "\n",
    "print(\"BGD - alpha:\", best_alpha, \" waktu(s):\", t_bgd, \" MSE(test):\", mse_bgd)\n"
   ]
  },
  {
   "cell_type": "code",
   "execution_count": 43,
   "id": "1ef8020a",
   "metadata": {},
   "outputs": [
    {
     "name": "stdout",
     "output_type": "stream",
     "text": [
      "SGD - waktu(s): 0.1860936389998642  MSE(test): 575.5092601112774\n"
     ]
    },
    {
     "name": "stderr",
     "output_type": "stream",
     "text": [
      "/tmp/ipykernel_5511/3103864548.py:4: DeprecationWarning: Conversion of an array with ndim > 0 to a scalar is deprecated, and will error in future. Ensure you extract a single element from your array before performing this operation. (Deprecated NumPy 1.25.)\n",
      "  return float((err.T @ err) / m)\n"
     ]
    }
   ],
   "source": [
    "def sgd(Xm, ym, n_epochs=50, t0_val=5.0, t1_val=50.0, shuffle=True):\n",
    "    m, n = Xm.shape\n",
    "    theta = np.zeros((n, 1))\n",
    "    history, iteration = [], 0\n",
    "    rng_local = np.random.default_rng(123)\n",
    "\n",
    "    def lr(t): return 1.0 / (t0_val + t1_val*t)\n",
    "\n",
    "    for _ in range(n_epochs):\n",
    "        indices = np.arange(m)\n",
    "        if shuffle:\n",
    "            rng_local.shuffle(indices)\n",
    "        for i in indices:\n",
    "            xi = Xm[i:i+1].T\n",
    "            yi = ym[i:i+1]\n",
    "            grad_i = 2 * (xi @ ((xi.T @ theta) - yi))\n",
    "            eta = lr(iteration + 1)\n",
    "            theta = theta - eta * grad_i\n",
    "            iteration += 1\n",
    "        history.append(mse_cost(Xm, ym, theta))\n",
    "    return theta, history\n",
    "\n",
    "t0 = time.perf_counter()\n",
    "theta_sgd, hist_sgd = sgd(Xtr, ytr, n_epochs=50, t0_val=5.0, t1_val=50.0, shuffle=True)\n",
    "t_sgd = time.perf_counter() - t0\n",
    "mse_sgd = mse_cost(Xte, yte, theta_sgd)\n",
    "\n",
    "print(\"SGD - waktu(s):\", t_sgd, \" MSE(test):\", mse_sgd)\n"
   ]
  },
  {
   "cell_type": "code",
   "execution_count": 44,
   "id": "8e3ed9d6",
   "metadata": {},
   "outputs": [
    {
     "name": "stderr",
     "output_type": "stream",
     "text": [
      "/tmp/ipykernel_5511/3103864548.py:4: DeprecationWarning: Conversion of an array with ndim > 0 to a scalar is deprecated, and will error in future. Ensure you extract a single element from your array before performing this operation. (Deprecated NumPy 1.25.)\n",
      "  return float((err.T @ err) / m)\n"
     ]
    },
    {
     "name": "stdout",
     "output_type": "stream",
     "text": [
      "MBGD - cfg: (32, 0.01)  waktu(s): 0.34693506200028423  MSE(test): 8.405921937312833\n"
     ]
    }
   ],
   "source": [
    "def mbgd(Xm, ym, batch_size=16, alpha=0.05, n_epochs=150, shuffle=True):\n",
    "    m, n = Xm.shape\n",
    "    theta = np.zeros((n, 1))\n",
    "    history = []\n",
    "    rng_local = np.random.default_rng(999)\n",
    "    for _ in range(n_epochs):\n",
    "        indices = np.arange(m)\n",
    "        if shuffle:\n",
    "            rng_local.shuffle(indices)\n",
    "        for start in range(0, m, batch_size):\n",
    "            end = min(start + batch_size, m)\n",
    "            batch_idx = indices[start:end]\n",
    "            Xb = Xm[batch_idx]; yb = ym[batch_idx]\n",
    "            theta = theta - alpha * grad(Xb, yb, theta)\n",
    "        history.append(mse_cost(Xm, ym, theta))\n",
    "    return theta, history\n",
    "\n",
    "batch_sizes = [8, 16, 32]\n",
    "alphas_mbgd = [0.01, 0.05, 0.1]\n",
    "best_cfg, best_hist_m, best_theta_m = None, None, None\n",
    "best_final_cost_m = math.inf\n",
    "\n",
    "t0 = time.perf_counter()\n",
    "for bs in batch_sizes:\n",
    "    for a in alphas_mbgd:\n",
    "        th, hist = mbgd(Xtr, ytr, batch_size=bs, alpha=a, n_epochs=150)\n",
    "        if hist[-1] < best_final_cost_m:\n",
    "            best_final_cost_m = hist[-1]\n",
    "            best_cfg, best_hist_m, best_theta_m = (bs, a), hist, th\n",
    "t_mbgd = time.perf_counter() - t0\n",
    "mse_mbgd = mse_cost(Xte, yte, best_theta_m)\n",
    "\n",
    "print(\"MBGD - cfg:\", best_cfg, \" waktu(s):\", t_mbgd, \" MSE(test):\", mse_mbgd)\n"
   ]
  },
  {
   "cell_type": "code",
   "execution_count": 45,
   "id": "68b53d9f",
   "metadata": {},
   "outputs": [
    {
     "data": {
      "image/png": "[encoded data removed]",
      "text/plain": [
       "<Figure size 640x480 with 1 Axes>"
      ]
     },
     "metadata": {},
     "output_type": "display_data"
    }
   ],
   "source": [
    "plt.figure()\n",
    "plt.plot(range(1, len(best_hist)+1), best_hist, label=f\"BGD (alpha={best_alpha})\")\n",
    "plt.plot(range(1, len(hist_sgd)+1), hist_sgd, label=\"SGD\")\n",
    "plt.plot(range(1, len(best_hist_m)+1), best_hist_m, label=f\"MBGD (bs={best_cfg[0]}, alpha={best_cfg[1]})\")\n",
    "plt.xlabel(\"Epoch\")\n",
    "plt.ylabel(\"J(θ) - MSE on Train\")\n",
    "plt.title(\"Convergence of Gradient Descent Variants\")\n",
    "plt.legend()\n",
    "plt.tight_layout()\n",
    "plt.show()\n"
   ]
  },
  {
   "cell_type": "code",
   "execution_count": 46,
   "id": "c73a1b46",
   "metadata": {},
   "outputs": [
    {
     "data": {
      "text/html": [
       "<div>\n",
       "<style scoped>\n",
       "    .dataframe tbody tr th:only-of-type {\n",
       "        vertical-align: middle;\n",
       "    }\n",
       "\n",
       "    .dataframe tbody tr th {\n",
       "        vertical-align: top;\n",
       "    }\n",
       "\n",
       "    .dataframe thead th {\n",
       "        text-align: right;\n",
       "    }\n",
       "</style>\n",
       "<table border=\"1\" class=\"dataframe\">\n",
       "  <thead>\n",
       "    <tr style=\"text-align: right;\">\n",
       "      <th></th>\n",
       "      <th>Metode</th>\n",
       "      <th>Waktu Komputasi (detik)</th>\n",
       "      <th>MSE (Test)</th>\n",
       "    </tr>\n",
       "  </thead>\n",
       "  <tbody>\n",
       "    <tr>\n",
       "      <th>0</th>\n",
       "      <td>Mini-Batch GD</td>\n",
       "      <td>0.346935</td>\n",
       "      <td>8.405922</td>\n",
       "    </tr>\n",
       "    <tr>\n",
       "      <th>1</th>\n",
       "      <td>Normal Equation</td>\n",
       "      <td>0.081848</td>\n",
       "      <td>8.410804</td>\n",
       "    </tr>\n",
       "    <tr>\n",
       "      <th>2</th>\n",
       "      <td>Batch GD</td>\n",
       "      <td>0.076640</td>\n",
       "      <td>8.410804</td>\n",
       "    </tr>\n",
       "    <tr>\n",
       "      <th>3</th>\n",
       "      <td>SGD</td>\n",
       "      <td>0.186094</td>\n",
       "      <td>575.509260</td>\n",
       "    </tr>\n",
       "  </tbody>\n",
       "</table>\n",
       "</div>"
      ],
      "text/plain": [
       "            Metode  Waktu Komputasi (detik)  MSE (Test)\n",
       "0    Mini-Batch GD                 0.346935    8.405922\n",
       "1  Normal Equation                 0.081848    8.410804\n",
       "2         Batch GD                 0.076640    8.410804\n",
       "3              SGD                 0.186094  575.509260"
      ]
     },
     "execution_count": 46,
     "metadata": {},
     "output_type": "execute_result"
    }
   ],
   "source": [
    "results = pd.DataFrame([\n",
    "    {\"Metode\":\"Normal Equation\", \"Waktu Komputasi (detik)\": t_ne,   \"MSE (Test)\": mse_ne},\n",
    "    {\"Metode\":\"Batch GD\",        \"Waktu Komputasi (detik)\": t_bgd,  \"MSE (Test)\": mse_bgd},\n",
    "    {\"Metode\":\"SGD\",             \"Waktu Komputasi (detik)\": t_sgd,  \"MSE (Test)\": mse_sgd},\n",
    "    {\"Metode\":\"Mini-Batch GD\",   \"Waktu Komputasi (detik)\": t_mbgd, \"MSE (Test)\": mse_mbgd},\n",
    "]).sort_values(\"MSE (Test)\").reset_index(drop=True)\n",
    "\n",
    "results\n"
   ]
  },
  {
   "cell_type": "code",
   "execution_count": null,
   "id": "d44f4171",
   "metadata": {},
   "outputs": [],
   "source": []
  }
 ],
 "metadata": {
  "kernelspec": {
   "display_name": ".venv (3.10.12)",
   "language": "python",
   "name": "python3"
  },
  "language_info": {
   "codemirror_mode": {
    "name": "ipython",
    "version": 3
   },
   "file_extension": ".py",
   "mimetype": "text/x-python",
   "name": "python",
   "nbconvert_exporter": "python",
   "pygments_lexer": "ipython3",
   "version": "3.10.12"
  }
 },
 "nbformat": 4,
 "nbformat_minor": 5
}
